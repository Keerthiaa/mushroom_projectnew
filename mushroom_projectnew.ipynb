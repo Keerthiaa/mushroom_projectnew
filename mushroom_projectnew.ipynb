{
 "cells": [
  {
   "cell_type": "markdown",
   "metadata": {},
   "source": [
    "The data set includes descriptions of hypothetical samples corresponding to 23 species of gilled mushrooms in the Agaricus and Lepiota Family\n",
    "The target of this dataset is to predict between edible(0) or poisonous(1) mushrooms."
   ]
  },
  {
   "cell_type": "code",
   "execution_count": 125,
   "metadata": {},
   "outputs": [
    {
     "data": {
      "text/html": [
       "<div>\n",
       "<style scoped>\n",
       "    .dataframe tbody tr th:only-of-type {\n",
       "        vertical-align: middle;\n",
       "    }\n",
       "\n",
       "    .dataframe tbody tr th {\n",
       "        vertical-align: top;\n",
       "    }\n",
       "\n",
       "    .dataframe thead th {\n",
       "        text-align: right;\n",
       "    }\n",
       "</style>\n",
       "<table border=\"1\" class=\"dataframe\">\n",
       "  <thead>\n",
       "    <tr style=\"text-align: right;\">\n",
       "      <th></th>\n",
       "      <th>class</th>\n",
       "      <th>cap-shape</th>\n",
       "      <th>cap-surface</th>\n",
       "      <th>cap-color</th>\n",
       "      <th>bruises</th>\n",
       "      <th>odor</th>\n",
       "      <th>gill-attachment</th>\n",
       "      <th>gill-spacing</th>\n",
       "      <th>gill-size</th>\n",
       "      <th>gill-color</th>\n",
       "      <th>...</th>\n",
       "      <th>stalk-surface-below-ring</th>\n",
       "      <th>stalk-color-above-ring</th>\n",
       "      <th>stalk-color-below</th>\n",
       "      <th>veil-type</th>\n",
       "      <th>veil-color</th>\n",
       "      <th>ring-number</th>\n",
       "      <th>ring-type</th>\n",
       "      <th>spore-print-color</th>\n",
       "      <th>population</th>\n",
       "      <th>habitat</th>\n",
       "    </tr>\n",
       "  </thead>\n",
       "  <tbody>\n",
       "    <tr>\n",
       "      <th>0</th>\n",
       "      <td>p</td>\n",
       "      <td>x</td>\n",
       "      <td>s</td>\n",
       "      <td>n</td>\n",
       "      <td>t</td>\n",
       "      <td>p</td>\n",
       "      <td>f</td>\n",
       "      <td>c</td>\n",
       "      <td>n</td>\n",
       "      <td>k</td>\n",
       "      <td>...</td>\n",
       "      <td>s</td>\n",
       "      <td>w</td>\n",
       "      <td>w</td>\n",
       "      <td>p</td>\n",
       "      <td>w</td>\n",
       "      <td>o</td>\n",
       "      <td>p</td>\n",
       "      <td>k</td>\n",
       "      <td>s</td>\n",
       "      <td>u</td>\n",
       "    </tr>\n",
       "    <tr>\n",
       "      <th>1</th>\n",
       "      <td>e</td>\n",
       "      <td>x</td>\n",
       "      <td>s</td>\n",
       "      <td>y</td>\n",
       "      <td>t</td>\n",
       "      <td>a</td>\n",
       "      <td>f</td>\n",
       "      <td>c</td>\n",
       "      <td>b</td>\n",
       "      <td>k</td>\n",
       "      <td>...</td>\n",
       "      <td>s</td>\n",
       "      <td>w</td>\n",
       "      <td>w</td>\n",
       "      <td>p</td>\n",
       "      <td>w</td>\n",
       "      <td>o</td>\n",
       "      <td>p</td>\n",
       "      <td>n</td>\n",
       "      <td>n</td>\n",
       "      <td>g</td>\n",
       "    </tr>\n",
       "    <tr>\n",
       "      <th>2</th>\n",
       "      <td>e</td>\n",
       "      <td>b</td>\n",
       "      <td>s</td>\n",
       "      <td>w</td>\n",
       "      <td>t</td>\n",
       "      <td>l</td>\n",
       "      <td>f</td>\n",
       "      <td>c</td>\n",
       "      <td>b</td>\n",
       "      <td>n</td>\n",
       "      <td>...</td>\n",
       "      <td>s</td>\n",
       "      <td>w</td>\n",
       "      <td>w</td>\n",
       "      <td>p</td>\n",
       "      <td>w</td>\n",
       "      <td>o</td>\n",
       "      <td>p</td>\n",
       "      <td>n</td>\n",
       "      <td>n</td>\n",
       "      <td>m</td>\n",
       "    </tr>\n",
       "    <tr>\n",
       "      <th>3</th>\n",
       "      <td>p</td>\n",
       "      <td>x</td>\n",
       "      <td>y</td>\n",
       "      <td>w</td>\n",
       "      <td>t</td>\n",
       "      <td>p</td>\n",
       "      <td>f</td>\n",
       "      <td>c</td>\n",
       "      <td>n</td>\n",
       "      <td>n</td>\n",
       "      <td>...</td>\n",
       "      <td>s</td>\n",
       "      <td>w</td>\n",
       "      <td>w</td>\n",
       "      <td>p</td>\n",
       "      <td>w</td>\n",
       "      <td>o</td>\n",
       "      <td>p</td>\n",
       "      <td>k</td>\n",
       "      <td>s</td>\n",
       "      <td>u</td>\n",
       "    </tr>\n",
       "    <tr>\n",
       "      <th>4</th>\n",
       "      <td>e</td>\n",
       "      <td>x</td>\n",
       "      <td>s</td>\n",
       "      <td>g</td>\n",
       "      <td>f</td>\n",
       "      <td>n</td>\n",
       "      <td>f</td>\n",
       "      <td>w</td>\n",
       "      <td>b</td>\n",
       "      <td>k</td>\n",
       "      <td>...</td>\n",
       "      <td>s</td>\n",
       "      <td>w</td>\n",
       "      <td>w</td>\n",
       "      <td>p</td>\n",
       "      <td>w</td>\n",
       "      <td>o</td>\n",
       "      <td>e</td>\n",
       "      <td>n</td>\n",
       "      <td>a</td>\n",
       "      <td>g</td>\n",
       "    </tr>\n",
       "    <tr>\n",
       "      <th>...</th>\n",
       "      <td>...</td>\n",
       "      <td>...</td>\n",
       "      <td>...</td>\n",
       "      <td>...</td>\n",
       "      <td>...</td>\n",
       "      <td>...</td>\n",
       "      <td>...</td>\n",
       "      <td>...</td>\n",
       "      <td>...</td>\n",
       "      <td>...</td>\n",
       "      <td>...</td>\n",
       "      <td>...</td>\n",
       "      <td>...</td>\n",
       "      <td>...</td>\n",
       "      <td>...</td>\n",
       "      <td>...</td>\n",
       "      <td>...</td>\n",
       "      <td>...</td>\n",
       "      <td>...</td>\n",
       "      <td>...</td>\n",
       "      <td>...</td>\n",
       "    </tr>\n",
       "    <tr>\n",
       "      <th>8119</th>\n",
       "      <td>e</td>\n",
       "      <td>k</td>\n",
       "      <td>s</td>\n",
       "      <td>n</td>\n",
       "      <td>f</td>\n",
       "      <td>n</td>\n",
       "      <td>a</td>\n",
       "      <td>c</td>\n",
       "      <td>b</td>\n",
       "      <td>y</td>\n",
       "      <td>...</td>\n",
       "      <td>s</td>\n",
       "      <td>o</td>\n",
       "      <td>o</td>\n",
       "      <td>p</td>\n",
       "      <td>o</td>\n",
       "      <td>o</td>\n",
       "      <td>p</td>\n",
       "      <td>b</td>\n",
       "      <td>c</td>\n",
       "      <td>l</td>\n",
       "    </tr>\n",
       "    <tr>\n",
       "      <th>8120</th>\n",
       "      <td>e</td>\n",
       "      <td>x</td>\n",
       "      <td>s</td>\n",
       "      <td>n</td>\n",
       "      <td>f</td>\n",
       "      <td>n</td>\n",
       "      <td>a</td>\n",
       "      <td>c</td>\n",
       "      <td>b</td>\n",
       "      <td>y</td>\n",
       "      <td>...</td>\n",
       "      <td>s</td>\n",
       "      <td>o</td>\n",
       "      <td>o</td>\n",
       "      <td>p</td>\n",
       "      <td>n</td>\n",
       "      <td>o</td>\n",
       "      <td>p</td>\n",
       "      <td>b</td>\n",
       "      <td>v</td>\n",
       "      <td>l</td>\n",
       "    </tr>\n",
       "    <tr>\n",
       "      <th>8121</th>\n",
       "      <td>e</td>\n",
       "      <td>f</td>\n",
       "      <td>s</td>\n",
       "      <td>n</td>\n",
       "      <td>f</td>\n",
       "      <td>n</td>\n",
       "      <td>a</td>\n",
       "      <td>c</td>\n",
       "      <td>b</td>\n",
       "      <td>n</td>\n",
       "      <td>...</td>\n",
       "      <td>s</td>\n",
       "      <td>o</td>\n",
       "      <td>o</td>\n",
       "      <td>p</td>\n",
       "      <td>o</td>\n",
       "      <td>o</td>\n",
       "      <td>p</td>\n",
       "      <td>b</td>\n",
       "      <td>c</td>\n",
       "      <td>l</td>\n",
       "    </tr>\n",
       "    <tr>\n",
       "      <th>8122</th>\n",
       "      <td>p</td>\n",
       "      <td>k</td>\n",
       "      <td>y</td>\n",
       "      <td>n</td>\n",
       "      <td>f</td>\n",
       "      <td>y</td>\n",
       "      <td>f</td>\n",
       "      <td>c</td>\n",
       "      <td>n</td>\n",
       "      <td>b</td>\n",
       "      <td>...</td>\n",
       "      <td>k</td>\n",
       "      <td>w</td>\n",
       "      <td>w</td>\n",
       "      <td>p</td>\n",
       "      <td>w</td>\n",
       "      <td>o</td>\n",
       "      <td>e</td>\n",
       "      <td>w</td>\n",
       "      <td>v</td>\n",
       "      <td>l</td>\n",
       "    </tr>\n",
       "    <tr>\n",
       "      <th>8123</th>\n",
       "      <td>e</td>\n",
       "      <td>x</td>\n",
       "      <td>s</td>\n",
       "      <td>n</td>\n",
       "      <td>f</td>\n",
       "      <td>n</td>\n",
       "      <td>a</td>\n",
       "      <td>c</td>\n",
       "      <td>b</td>\n",
       "      <td>y</td>\n",
       "      <td>...</td>\n",
       "      <td>s</td>\n",
       "      <td>o</td>\n",
       "      <td>o</td>\n",
       "      <td>p</td>\n",
       "      <td>o</td>\n",
       "      <td>o</td>\n",
       "      <td>p</td>\n",
       "      <td>o</td>\n",
       "      <td>c</td>\n",
       "      <td>l</td>\n",
       "    </tr>\n",
       "  </tbody>\n",
       "</table>\n",
       "<p>8124 rows × 23 columns</p>\n",
       "</div>"
      ],
      "text/plain": [
       "     class cap-shape cap-surface cap-color bruises odor gill-attachment  \\\n",
       "0        p         x           s         n       t    p               f   \n",
       "1        e         x           s         y       t    a               f   \n",
       "2        e         b           s         w       t    l               f   \n",
       "3        p         x           y         w       t    p               f   \n",
       "4        e         x           s         g       f    n               f   \n",
       "...    ...       ...         ...       ...     ...  ...             ...   \n",
       "8119     e         k           s         n       f    n               a   \n",
       "8120     e         x           s         n       f    n               a   \n",
       "8121     e         f           s         n       f    n               a   \n",
       "8122     p         k           y         n       f    y               f   \n",
       "8123     e         x           s         n       f    n               a   \n",
       "\n",
       "     gill-spacing gill-size gill-color  ... stalk-surface-below-ring  \\\n",
       "0               c         n          k  ...                        s   \n",
       "1               c         b          k  ...                        s   \n",
       "2               c         b          n  ...                        s   \n",
       "3               c         n          n  ...                        s   \n",
       "4               w         b          k  ...                        s   \n",
       "...           ...       ...        ...  ...                      ...   \n",
       "8119            c         b          y  ...                        s   \n",
       "8120            c         b          y  ...                        s   \n",
       "8121            c         b          n  ...                        s   \n",
       "8122            c         n          b  ...                        k   \n",
       "8123            c         b          y  ...                        s   \n",
       "\n",
       "     stalk-color-above-ring stalk-color-below veil-type veil-color  \\\n",
       "0                         w                 w         p          w   \n",
       "1                         w                 w         p          w   \n",
       "2                         w                 w         p          w   \n",
       "3                         w                 w         p          w   \n",
       "4                         w                 w         p          w   \n",
       "...                     ...               ...       ...        ...   \n",
       "8119                      o                 o         p          o   \n",
       "8120                      o                 o         p          n   \n",
       "8121                      o                 o         p          o   \n",
       "8122                      w                 w         p          w   \n",
       "8123                      o                 o         p          o   \n",
       "\n",
       "     ring-number ring-type spore-print-color population habitat  \n",
       "0              o         p                 k          s       u  \n",
       "1              o         p                 n          n       g  \n",
       "2              o         p                 n          n       m  \n",
       "3              o         p                 k          s       u  \n",
       "4              o         e                 n          a       g  \n",
       "...          ...       ...               ...        ...     ...  \n",
       "8119           o         p                 b          c       l  \n",
       "8120           o         p                 b          v       l  \n",
       "8121           o         p                 b          c       l  \n",
       "8122           o         e                 w          v       l  \n",
       "8123           o         p                 o          c       l  \n",
       "\n",
       "[8124 rows x 23 columns]"
      ]
     },
     "execution_count": 125,
     "metadata": {},
     "output_type": "execute_result"
    }
   ],
   "source": [
    "import pandas as pd\n",
    "data=pd.read_csv('mush.csv')\n",
    "data"
   ]
  },
  {
   "cell_type": "code",
   "execution_count": 126,
   "metadata": {},
   "outputs": [
    {
     "data": {
      "text/plain": [
       "Index(['class', 'cap-shape', 'cap-surface', 'cap-color', 'bruises', 'odor',\n",
       "       'gill-attachment', 'gill-spacing', 'gill-size', 'gill-color',\n",
       "       'stalk-shape', 'stalk-root', 'stalk-surface-above-ring',\n",
       "       'stalk-surface-below-ring', 'stalk-color-above-ring',\n",
       "       'stalk-color-below', 'veil-type', 'veil-color', 'ring-number',\n",
       "       'ring-type', 'spore-print-color', 'population', 'habitat'],\n",
       "      dtype='object')"
      ]
     },
     "execution_count": 126,
     "metadata": {},
     "output_type": "execute_result"
    }
   ],
   "source": [
    "data.columns"
   ]
  },
  {
   "cell_type": "markdown",
   "metadata": {},
   "source": [
    "ABOUT THE COLUMNS:\n",
    "1. class - it indicates our target variable with the category p for poisonous and e for edible mushroom\n",
    "2. cap-shape: bell=b,conical=c,convex=x,flat=f, knobbed=k,sunken=s\n",
    "3. cap-surface: fibrous=f,grooves=g,scaly=y,smooth=s\n",
    "4. cap-color: brown=n,buff=b,cinnamon=c,gray=g,green=r, pink=p,purple=u,red=e,white=w,yellow=y\n",
    "5. bruises?: bruises=t,no=f\n",
    "6. odor: almond=a,anise=l,creosote=c,fishy=y,foul=f, musty=m,none=n,pungent=p,spicy=s\n",
    "7. gill-attachment: attached=a,descending=d,free=f,notched=n\n",
    "8. gill-spacing: close=c,crowded=w,distant=d\n",
    "9. gill-size: broad=b,narrow=n\n",
    "10. gill-color: black=k,brown=n,buff=b,chocolate=h,gray=g, green=r,orange=o,pink=p,purple=u,red=e, white=w,yellow=y\n",
    "11. stalk-shape: enlarging=e,tapering=t\n",
    "12. stalk-root: bulbous=b,club=c,cup=u,equal=e, rhizomorphs=z,rooted=r,missing=?\n",
    "13. stalk-surface-above-ring: fibrous=f,scaly=y,silky=k,smooth=s\n",
    "14. stalk-surface-below-ring: fibrous=f,scaly=y,silky=k,smooth=s\n",
    "15. stalk-color-above-ring: brown=n,buff=b,cinnamon=c,gray=g,orange=o, pink=p,red=e,white=w,yellow=y\n",
    "16. stalk-color-below-ring: brown=n,buff=b,cinnamon=c,gray=g,orange=o, pink=p,red=e,white=w,yellow=y\n",
    "17. veil-type: partial=p,universal=u\n",
    "18. veil-color: brown=n,orange=o,white=w,yellow=y\n",
    "19. ring-number: none=n,one=o,two=t\n",
    "20. ring-type: cobwebby=c,evanescent=e,flaring=f,large=l, none=n,pendant=p,sheathing=s,zone=z\n",
    "21. spore-print-color: black=k,brown=n,buff=b,chocolate=h,green=r, orange=o,purple=u,white=w,yellow=y\n",
    "22. population: abundant=a,clustered=c,numerous=n, scattered=s,several=v,solitary=y\n",
    "23. habitat: grasses=g,leaves=l,meadows=m,paths=p, urban=u,waste=w,woods=d"
   ]
  },
  {
   "cell_type": "code",
   "execution_count": 127,
   "metadata": {},
   "outputs": [
    {
     "data": {
      "text/plain": [
       "(8124, 23)"
      ]
     },
     "execution_count": 127,
     "metadata": {},
     "output_type": "execute_result"
    }
   ],
   "source": [
    "data.shape"
   ]
  },
  {
   "cell_type": "code",
   "execution_count": 128,
   "metadata": {},
   "outputs": [
    {
     "data": {
      "text/plain": [
       "class                       0\n",
       "cap-shape                   0\n",
       "cap-surface                 0\n",
       "cap-color                   0\n",
       "bruises                     0\n",
       "odor                        0\n",
       "gill-attachment             0\n",
       "gill-spacing                0\n",
       "gill-size                   0\n",
       "gill-color                  0\n",
       "stalk-shape                 0\n",
       "stalk-root                  0\n",
       "stalk-surface-above-ring    0\n",
       "stalk-surface-below-ring    0\n",
       "stalk-color-above-ring      0\n",
       "stalk-color-below           0\n",
       "veil-type                   0\n",
       "veil-color                  0\n",
       "ring-number                 0\n",
       "ring-type                   0\n",
       "spore-print-color           0\n",
       "population                  0\n",
       "habitat                     0\n",
       "dtype: int64"
      ]
     },
     "execution_count": 128,
     "metadata": {},
     "output_type": "execute_result"
    }
   ],
   "source": [
    "data.isnull().sum()"
   ]
  },
  {
   "cell_type": "markdown",
   "metadata": {},
   "source": [
    "EDA\n"
   ]
  },
  {
   "cell_type": "markdown",
   "metadata": {},
   "source": [
    "Scatterplot:"
   ]
  },
  {
   "cell_type": "code",
   "execution_count": 129,
   "metadata": {},
   "outputs": [
    {
     "data": {
      "text/plain": [
       "Index(['class', 'cap-shape', 'cap-surface', 'cap-color', 'bruises', 'odor',\n",
       "       'gill-attachment', 'gill-spacing', 'gill-size', 'gill-color',\n",
       "       'stalk-shape', 'stalk-root', 'stalk-surface-above-ring',\n",
       "       'stalk-surface-below-ring', 'stalk-color-above-ring',\n",
       "       'stalk-color-below', 'veil-type', 'veil-color', 'ring-number',\n",
       "       'ring-type', 'spore-print-color', 'population', 'habitat'],\n",
       "      dtype='object')"
      ]
     },
     "execution_count": 129,
     "metadata": {},
     "output_type": "execute_result"
    }
   ],
   "source": [
    "data.columns"
   ]
  },
  {
   "cell_type": "code",
   "execution_count": 130,
   "metadata": {},
   "outputs": [
    {
     "data": {
      "image/png": "[encoded data removed]",
      "text/plain": [
       "<Figure size 432x288 with 1 Axes>"
      ]
     },
     "metadata": {
      "needs_background": "light"
     },
     "output_type": "display_data"
    }
   ],
   "source": [
    "import matplotlib.pyplot as plt\n",
    "sns.countplot(data[\"class\"])\n",
    "plt.title(\"class\")\n",
    "plt.show()"
   ]
  },
  {
   "cell_type": "markdown",
   "metadata": {},
   "source": [
    "edible class mushrooms are 4000 and above and poisonous category is approximately 3800 in count"
   ]
  },
  {
   "cell_type": "code",
   "execution_count": 131,
   "metadata": {},
   "outputs": [
    {
     "data": {
      "text/plain": [
       "<matplotlib.axes._subplots.AxesSubplot at 0x287c51c4be0>"
      ]
     },
     "execution_count": 131,
     "metadata": {},
     "output_type": "execute_result"
    },
    {
     "data": {
      "image/png": "[encoded data removed]",
      "text/plain": [
       "<Figure size 432x288 with 1 Axes>"
      ]
     },
     "metadata": {
      "needs_background": "light"
     },
     "output_type": "display_data"
    }
   ],
   "source": [
    "sns.scatterplot (x='cap-shape',y='class',data=data)"
   ]
  },
  {
   "cell_type": "markdown",
   "metadata": {},
   "source": [
    "we can observe the under poisonous(p) and edible(e) category all cap shape variables are not evenly distributed as conical shape not present class e and sunken not present in class p"
   ]
  },
  {
   "cell_type": "code",
   "execution_count": 132,
   "metadata": {},
   "outputs": [
    {
     "data": {
      "text/plain": [
       "<matplotlib.axes._subplots.AxesSubplot at 0x287c51258e0>"
      ]
     },
     "execution_count": 132,
     "metadata": {},
     "output_type": "execute_result"
    },
    {
     "data": {
      "image/png": "[encoded data removed]",
      "text/plain": [
       "<Figure size 432x288 with 1 Axes>"
      ]
     },
     "metadata": {
      "needs_background": "light"
     },
     "output_type": "display_data"
    }
   ],
   "source": [
    "sns.scatterplot (x='cap-surface',y='class',data=data)"
   ]
  },
  {
   "cell_type": "markdown",
   "metadata": {},
   "source": [
    "we can observe the under poisonous(p) and edible(e) category all cap surface variables are evenly distributed but grooves not present in class e"
   ]
  },
  {
   "cell_type": "code",
   "execution_count": 133,
   "metadata": {},
   "outputs": [
    {
     "data": {
      "text/plain": [
       "<matplotlib.axes._subplots.AxesSubplot at 0x287c50d6be0>"
      ]
     },
     "execution_count": 133,
     "metadata": {},
     "output_type": "execute_result"
    },
    {
     "data": {
      "image/png": "[encoded data removed]",
      "text/plain": [
       "<Figure size 432x288 with 1 Axes>"
      ]
     },
     "metadata": {
      "needs_background": "light"
     },
     "output_type": "display_data"
    }
   ],
   "source": [
    "sns.scatterplot (x='cap-color',y='class',data=data)"
   ]
  },
  {
   "cell_type": "markdown",
   "metadata": {},
   "source": [
    "we can observe the under poisonous(p) and edible(e) category all cap color variables are evenly distributed but purple and green are not found in class p"
   ]
  },
  {
   "cell_type": "code",
   "execution_count": 134,
   "metadata": {},
   "outputs": [
    {
     "data": {
      "text/plain": [
       "<matplotlib.axes._subplots.AxesSubplot at 0x287c5282190>"
      ]
     },
     "execution_count": 134,
     "metadata": {},
     "output_type": "execute_result"
    },
    {
     "data": {
      "image/png": "[encoded data removed]",
      "text/plain": [
       "<Figure size 432x288 with 1 Axes>"
      ]
     },
     "metadata": {
      "needs_background": "light"
     },
     "output_type": "display_data"
    }
   ],
   "source": [
    "sns.scatterplot (x='bruises',y='class',data=data) "
   ]
  },
  {
   "cell_type": "markdown",
   "metadata": {},
   "source": [
    "we can observe the under poisonous(p) and edible(e) category all odor variables are evenly distributed"
   ]
  },
  {
   "cell_type": "code",
   "execution_count": 135,
   "metadata": {},
   "outputs": [
    {
     "data": {
      "text/plain": [
       "<matplotlib.axes._subplots.AxesSubplot at 0x287c64288b0>"
      ]
     },
     "execution_count": 135,
     "metadata": {},
     "output_type": "execute_result"
    },
    {
     "data": {
      "image/png": "[encoded data removed]",
      "text/plain": [
       "<Figure size 432x288 with 1 Axes>"
      ]
     },
     "metadata": {
      "needs_background": "light"
     },
     "output_type": "display_data"
    }
   ],
   "source": [
    "\n",
    "sns.scatterplot (x='odor',y='class',data=data)       "
   ]
  },
  {
   "cell_type": "markdown",
   "metadata": {},
   "source": [
    "we can observe the under poisonous(p) and edible(e) category all odor variables are not evenly distributed,in class e creosote,fishy,foul, musty,pungent and spicy are not found while in class p almond and anise are not present"
   ]
  },
  {
   "cell_type": "code",
   "execution_count": 136,
   "metadata": {},
   "outputs": [
    {
     "data": {
      "text/plain": [
       "<matplotlib.axes._subplots.AxesSubplot at 0x287c64680a0>"
      ]
     },
     "execution_count": 136,
     "metadata": {},
     "output_type": "execute_result"
    },
    {
     "data": {
      "image/png": "[encoded data removed]",
      "text/plain": [
       "<Figure size 432x288 with 1 Axes>"
      ]
     },
     "metadata": {
      "needs_background": "light"
     },
     "output_type": "display_data"
    }
   ],
   "source": [
    "sns.scatterplot (x='gill-attachment',y='class',data=data) "
   ]
  },
  {
   "cell_type": "markdown",
   "metadata": {},
   "source": [
    "we can observe the under poisonous(p) and edible(e) category all gill-attachment variables are evenly distributed"
   ]
  },
  {
   "cell_type": "code",
   "execution_count": 137,
   "metadata": {},
   "outputs": [
    {
     "data": {
      "text/plain": [
       "<matplotlib.axes._subplots.AxesSubplot at 0x287c64b0340>"
      ]
     },
     "execution_count": 137,
     "metadata": {},
     "output_type": "execute_result"
    },
    {
     "data": {
      "image/png": "[encoded data removed]",
      "text/plain": [
       "<Figure size 432x288 with 1 Axes>"
      ]
     },
     "metadata": {
      "needs_background": "light"
     },
     "output_type": "display_data"
    }
   ],
   "source": [
    "sns.scatterplot (x='gill-spacing',y='class',data=data)"
   ]
  },
  {
   "cell_type": "markdown",
   "metadata": {},
   "source": [
    "we can observe the under poisonous(p) and edible(e) category all gill-spacing variables are evenly distributed"
   ]
  },
  {
   "cell_type": "code",
   "execution_count": 138,
   "metadata": {},
   "outputs": [
    {
     "data": {
      "text/plain": [
       "<matplotlib.axes._subplots.AxesSubplot at 0x287c6428400>"
      ]
     },
     "execution_count": 138,
     "metadata": {},
     "output_type": "execute_result"
    },
    {
     "data": {
      "image/png": "[encoded data removed]",
      "text/plain": [
       "<Figure size 432x288 with 1 Axes>"
      ]
     },
     "metadata": {
      "needs_background": "light"
     },
     "output_type": "display_data"
    }
   ],
   "source": [
    " sns.scatterplot (x='gill-size',y='class',data=data)"
   ]
  },
  {
   "cell_type": "markdown",
   "metadata": {},
   "source": [
    "we can observe the under poisonous(p) and edible(e) category all gill-size variables are evenly distributed"
   ]
  },
  {
   "cell_type": "code",
   "execution_count": 139,
   "metadata": {},
   "outputs": [
    {
     "data": {
      "text/plain": [
       "<matplotlib.axes._subplots.AxesSubplot at 0x287c651feb0>"
      ]
     },
     "execution_count": 139,
     "metadata": {},
     "output_type": "execute_result"
    },
    {
     "data": {
      "image/png": "[encoded data removed]",
      "text/plain": [
       "<Figure size 432x288 with 1 Axes>"
      ]
     },
     "metadata": {
      "needs_background": "light"
     },
     "output_type": "display_data"
    }
   ],
   "source": [
    " sns.scatterplot (x='gill-color',y='class',data=data)      "
   ]
  },
  {
   "cell_type": "markdown",
   "metadata": {},
   "source": [
    "we can observe the under poisonous(p) and edible(e) category all gill-color variables are not evenly distributed, red and orange not found in class p while buff and red not found in class e"
   ]
  },
  {
   "cell_type": "code",
   "execution_count": 140,
   "metadata": {},
   "outputs": [
    {
     "data": {
      "text/plain": [
       "<matplotlib.axes._subplots.AxesSubplot at 0x287c656b730>"
      ]
     },
     "execution_count": 140,
     "metadata": {},
     "output_type": "execute_result"
    },
    {
     "data": {
      "image/png": "[encoded data removed]",
      "text/plain": [
       "<Figure size 432x288 with 1 Axes>"
      ]
     },
     "metadata": {
      "needs_background": "light"
     },
     "output_type": "display_data"
    }
   ],
   "source": [
    "sns.scatterplot (x='stalk-shape',y='class',data=data)"
   ]
  },
  {
   "cell_type": "code",
   "execution_count": 141,
   "metadata": {},
   "outputs": [
    {
     "ename": "SyntaxError",
     "evalue": "invalid syntax (<ipython-input-141-31ca53d0567e>, line 1)",
     "output_type": "error",
     "traceback": [
      "\u001b[1;36m  File \u001b[1;32m\"<ipython-input-141-31ca53d0567e>\"\u001b[1;36m, line \u001b[1;32m1\u001b[0m\n\u001b[1;33m    we can observe the under poisonous(p) and edible(e) category all stalk shape variables are evenly distributed\u001b[0m\n\u001b[1;37m       ^\u001b[0m\n\u001b[1;31mSyntaxError\u001b[0m\u001b[1;31m:\u001b[0m invalid syntax\n"
     ]
    }
   ],
   "source": [
    "we can observe the under poisonous(p) and edible(e) category all stalk shape variables are evenly distributed"
   ]
  },
  {
   "cell_type": "code",
   "execution_count": null,
   "metadata": {},
   "outputs": [],
   "source": [
    "sns.scatterplot (x='stalk-root',y='class',data=data)"
   ]
  },
  {
   "cell_type": "markdown",
   "metadata": {},
   "source": [
    "we can observe the under poisonous(p) and edible(e) category all stalk root variables are evenly distributed except that rooted category not present in p class"
   ]
  },
  {
   "cell_type": "code",
   "execution_count": null,
   "metadata": {},
   "outputs": [],
   "source": [
    "sns.scatterplot (x='stalk-surface-above-ring',y='class',data=data)"
   ]
  },
  {
   "cell_type": "markdown",
   "metadata": {},
   "source": [
    "we can observe the under poisonous(p) and edible(e) category all stalk surface above ring variables are evenly distributed in both the class"
   ]
  },
  {
   "cell_type": "code",
   "execution_count": null,
   "metadata": {},
   "outputs": [],
   "source": [
    "sns.scatterplot (x='stalk-surface-below-ring',y='class',data=data)"
   ]
  },
  {
   "cell_type": "markdown",
   "metadata": {},
   "source": [
    "we can observe the under poisonous(p) and edible(e) category all stalk surface above ring variables are evenly distributed in both the class"
   ]
  },
  {
   "cell_type": "code",
   "execution_count": null,
   "metadata": {},
   "outputs": [],
   "source": [
    "sns.scatterplot (x='stalk-color-above-ring',y='class',data=data)"
   ]
  },
  {
   "cell_type": "markdown",
   "metadata": {},
   "source": [
    "we can observe the under poisonous(p) and edible(e) category all stalk color below ring variables are not evenly distributed in edible class buff, cinnamon and yellow are not found while in poisonous class gray, red and orange are not found"
   ]
  },
  {
   "cell_type": "code",
   "execution_count": null,
   "metadata": {},
   "outputs": [],
   "source": [
    "sns.scatterplot (x='stalk-color-below',y='class',data=data)"
   ]
  },
  {
   "cell_type": "markdown",
   "metadata": {},
   "source": [
    "we can observe the under poisonous(p) and edible(e) category all stalk color below ring variables are not evenly distributed as edible category doesnot contain buff,yellow and cinnamon colour while in class p grey,red and orange are not present"
   ]
  },
  {
   "cell_type": "code",
   "execution_count": null,
   "metadata": {},
   "outputs": [],
   "source": [
    "sns.scatterplot (x='veil-type',y='class',data=data)"
   ]
  },
  {
   "cell_type": "markdown",
   "metadata": {},
   "source": [
    "we can observe the under poisonous(p) and edible(e) category all veil-type are partial in nature"
   ]
  },
  {
   "cell_type": "code",
   "execution_count": null,
   "metadata": {},
   "outputs": [],
   "source": [
    "sns.scatterplot (x='veil-color',y='class',data=data)"
   ]
  },
  {
   "cell_type": "markdown",
   "metadata": {},
   "source": [
    "we can observe the under poisonous(p) and edible(e) category all veil-color  variables are not evenly distributed as yellow not found in edible ahile brown and orange not present in poisonous category"
   ]
  },
  {
   "cell_type": "code",
   "execution_count": null,
   "metadata": {},
   "outputs": [],
   "source": [
    "sns.scatterplot (x='ring-number',y='class',data=data)"
   ]
  },
  {
   "cell_type": "code",
   "execution_count": null,
   "metadata": {},
   "outputs": [],
   "source": [
    "we can observe the under poisonous(p) and edible(e) category all ring-number variables are evenly distributed but no none category found in edible class"
   ]
  },
  {
   "cell_type": "code",
   "execution_count": null,
   "metadata": {},
   "outputs": [],
   "source": [
    "sns.scatterplot (x='ring-type',y='class',data=data)"
   ]
  },
  {
   "cell_type": "markdown",
   "metadata": {},
   "source": [
    "we can observe the under poisonous(p) and edible(e) category all ring- type variables are not evenly distributed, flaring ring type not found in class p and large and none not found in edible category of mushrooms"
   ]
  },
  {
   "cell_type": "code",
   "execution_count": null,
   "metadata": {},
   "outputs": [],
   "source": [
    "sns.scatterplot (x='spore-print-color',y='class',data=data)"
   ]
  },
  {
   "cell_type": "markdown",
   "metadata": {},
   "source": [
    "we can observe the under poisonous(p) and edible(e) category all spore-orint-color variables are not evenly distributed and colour green not found in edible class while colour purple, orange, yellow and buff not fond in class p."
   ]
  },
  {
   "cell_type": "code",
   "execution_count": null,
   "metadata": {},
   "outputs": [],
   "source": [
    "sns.scatterplot (x='population',y='class',data=data)"
   ]
  },
  {
   "cell_type": "markdown",
   "metadata": {},
   "source": [
    "we can observe the under poisonous(p) and edible(e) category all habitats are evenly distributed, but abundant(a) and numerous(n) not fond in class p, therfore class p will not depend on (n) & (a)"
   ]
  },
  {
   "cell_type": "code",
   "execution_count": null,
   "metadata": {},
   "outputs": [],
   "source": [
    "import seaborn as sns\n",
    "sns.scatterplot (x='habitat',y='class',data=data)"
   ]
  },
  {
   "cell_type": "markdown",
   "metadata": {},
   "source": [
    "we can observe the under poisonous(p) and edible(e) category all habitats are evenly distributed, but waste(w) not fond in class p"
   ]
  },
  {
   "cell_type": "markdown",
   "metadata": {},
   "source": [
    "CORRELATION:"
   ]
  },
  {
   "cell_type": "markdown",
   "metadata": {},
   "source": [
    "\n",
    "we have to encode the attributes to make further analysis"
   ]
  },
  {
   "cell_type": "code",
   "execution_count": 143,
   "metadata": {},
   "outputs": [
    {
     "data": {
      "text/plain": [
       "0       0\n",
       "1       0\n",
       "2       0\n",
       "3       0\n",
       "4       0\n",
       "       ..\n",
       "8119    0\n",
       "8120    0\n",
       "8121    0\n",
       "8122    0\n",
       "8123    0\n",
       "Name: veil-type, Length: 8124, dtype: int32"
      ]
     },
     "execution_count": 143,
     "metadata": {},
     "output_type": "execute_result"
    }
   ],
   "source": [
    "from sklearn import preprocessing\n",
    "le = preprocessing.LabelEncoder()\n",
    "\n",
    "data['class']=le.fit_transform(data['class'])\n",
    "data['class']\n",
    "data['cap-shape']=le.fit_transform(data['cap-shape'])\n",
    "data['cap-shape']\n",
    "data['cap-surface']=le.fit_transform(data['cap-surface'])\n",
    "data['cap-surface']\n",
    "data['cap-color']=le.fit_transform(data['cap-color'])\n",
    "data['cap-color']\n",
    "data['bruises']=le.fit_transform(data['bruises'])\n",
    "data['bruises']\n",
    "data['odor']=le.fit_transform(data['odor'])\n",
    "data['odor']\n",
    "data['gill-attachment']=le.fit_transform(data['gill-attachment'])\n",
    "data['gill-attachment']\n",
    "data['gill-spacing']=le.fit_transform(data['gill-spacing'])\n",
    "data['gill-spacing']\n",
    "data['gill-size']=le.fit_transform(data['gill-size'])\n",
    "data['gill-size']\n",
    "data['gill-color']=le.fit_transform(data['gill-color'])\n",
    "data['gill-color']\n",
    "data['stalk-shape']=le.fit_transform(data['stalk-shape'])\n",
    "data['stalk-shape']\n",
    "data['stalk-root']=le.fit_transform(data['stalk-root'])\n",
    "data['stalk-root']\n",
    "data['stalk-surface-above-ring']=le.fit_transform(data['stalk-surface-above-ring'])\n",
    "data['stalk-surface-above-ring']\n",
    "data['stalk-color-above-ring']=le.fit_transform(data['stalk-color-above-ring'])\n",
    "data['stalk-color-above-ring']\n",
    "data['stalk-color-below']=le.fit_transform(data['stalk-color-below'])\n",
    "data['stalk-color-below']\n",
    "data['veil-color']=le.fit_transform(data['veil-color'])\n",
    "data['veil-color']\n",
    "data['ring-number']=le.fit_transform(data['ring-number'])\n",
    "data['ring-number']\n",
    "data['ring-type']=le.fit_transform(data['ring-type'])\n",
    "data['ring-type']\n",
    "data['habitat']=le.fit_transform(data['habitat'])\n",
    "data['habitat']\n",
    "data['population']=le.fit_transform(data['population'])\n",
    "data['population']\n",
    "data['spore-print-color']=le.fit_transform(data['spore-print-color'])\n",
    "data['spore-print-color']\n",
    "data['stalk-surface-below-ring']=le.fit_transform(data['stalk-surface-below-ring'])\n",
    "data['stalk-surface-below-ring']\n",
    "data['veil-type']=le.fit_transform(data['veil-type'])\n",
    "data['veil-type']"
   ]
  },
  {
   "cell_type": "code",
   "execution_count": null,
   "metadata": {},
   "outputs": [],
   "source": [
    "data.corr()"
   ]
  },
  {
   "cell_type": "code",
   "execution_count": null,
   "metadata": {},
   "outputs": [],
   "source": [
    "data.corr()\n",
    "\n",
    "import seaborn as sns\n",
    "import matplotlib.pyplot as plt\n",
    "plt.figure(figsize=(20,10))\n",
    "sns.heatmap(data.corr(),annot=True,linewidth=0.5,linecolor=\"black\",fmt='2f')"
   ]
  },
  {
   "cell_type": "markdown",
   "metadata": {},
   "source": [
    "from the above chart we can understand veiltype belongs to only one category hence wether on class p or e hence not correlated to both classes and it can be dropped from dataset\n",
    "target variable= class \n",
    "while seeing the correlation of attributes with target variable we found\n",
    "population=29%\n",
    "habitat=21%\n",
    "spore print color=17%\n",
    "cap-surface=17%\n",
    "veil color=14%\n",
    "gill attachment=12%\n",
    "positively correlated"
   ]
  },
  {
   "cell_type": "code",
   "execution_count": null,
   "metadata": {},
   "outputs": [],
   "source": [
    "data=data.drop(['veil-type'],axis=1)"
   ]
  },
  {
   "cell_type": "code",
   "execution_count": null,
   "metadata": {},
   "outputs": [],
   "source": [
    "data.describe()"
   ]
  },
  {
   "cell_type": "code",
   "execution_count": null,
   "metadata": {},
   "outputs": [],
   "source": [
    "data=data.drop(['veil-type'],axis=1)"
   ]
  },
  {
   "cell_type": "markdown",
   "metadata": {},
   "source": [
    "DESCRIBING DATASET"
   ]
  },
  {
   "cell_type": "code",
   "execution_count": null,
   "metadata": {},
   "outputs": [],
   "source": [
    "data.head(10)"
   ]
  },
  {
   "cell_type": "markdown",
   "metadata": {},
   "source": [
    "#while observing the distribution of mean and median we can observe outliers can be present in bruises,stalk color above ring,stalk color below ring has outliers"
   ]
  },
  {
   "cell_type": "code",
   "execution_count": null,
   "metadata": {},
   "outputs": [],
   "source": [
    "data.hist(edgecolor='red',linewidth=1.5,figsize=(20,20))"
   ]
  },
  {
   "cell_type": "markdown",
   "metadata": {},
   "source": [
    "#from the above histogram observation we can see data is not normalised hence find skewness"
   ]
  },
  {
   "cell_type": "markdown",
   "metadata": {},
   "source": [
    "CHECKING OUTLIERS"
   ]
  },
  {
   "cell_type": "markdown",
   "metadata": {},
   "source": [
    "checking outliers on attributes which are highly correlated with target=class "
   ]
  },
  {
   "cell_type": "code",
   "execution_count": null,
   "metadata": {},
   "outputs": [],
   "source": [
    "data['habitat'].plot.box()"
   ]
  },
  {
   "cell_type": "code",
   "execution_count": null,
   "metadata": {},
   "outputs": [],
   "source": [
    "data['veil-color'].plot.box()"
   ]
  },
  {
   "cell_type": "code",
   "execution_count": null,
   "metadata": {},
   "outputs": [],
   "source": [
    "data['cap-surface'].plot.box()"
   ]
  },
  {
   "cell_type": "code",
   "execution_count": null,
   "metadata": {},
   "outputs": [],
   "source": [
    "data['gill-attachment'].plot.box()"
   ]
  },
  {
   "cell_type": "code",
   "execution_count": null,
   "metadata": {},
   "outputs": [],
   "source": [
    "data['spore-print-color'].plot.box()"
   ]
  },
  {
   "cell_type": "code",
   "execution_count": 146,
   "metadata": {},
   "outputs": [
    {
     "data": {
      "image/png": "[encoded data removed]",
      "text/plain": [
       "<Figure size 3600x10800 with 23 Axes>"
      ]
     },
     "metadata": {
      "needs_background": "light"
     },
     "output_type": "display_data"
    }
   ],
   "source": [
    "collist=data.columns.values\n",
    "ncol=50\n",
    "nrows=20\n",
    "plt.figure(figsize=(ncol,3*ncol))\n",
    "for i in range (0,len(collist)):\n",
    "    plt.subplot(nrows,ncol,i+1)\n",
    "    sns.boxplot(data[collist[i]],color='red',orient='v')\n",
    "    plt.tight_layout()"
   ]
  },
  {
   "cell_type": "markdown",
   "metadata": {},
   "source": [
    "from the above outliers analysis we can find data is scattered in gill attachment gill spacing, stalk root, stalk color above ring, stalk color below  ring, veil type, veil color, ring number, population and habitat."
   ]
  },
  {
   "cell_type": "code",
   "execution_count": 144,
   "metadata": {},
   "outputs": [
    {
     "data": {
      "text/html": [
       "<div>\n",
       "<style scoped>\n",
       "    .dataframe tbody tr th:only-of-type {\n",
       "        vertical-align: middle;\n",
       "    }\n",
       "\n",
       "    .dataframe tbody tr th {\n",
       "        vertical-align: top;\n",
       "    }\n",
       "\n",
       "    .dataframe thead th {\n",
       "        text-align: right;\n",
       "    }\n",
       "</style>\n",
       "<table border=\"1\" class=\"dataframe\">\n",
       "  <thead>\n",
       "    <tr style=\"text-align: right;\">\n",
       "      <th></th>\n",
       "      <th>class</th>\n",
       "      <th>cap-shape</th>\n",
       "      <th>cap-surface</th>\n",
       "      <th>cap-color</th>\n",
       "      <th>bruises</th>\n",
       "      <th>odor</th>\n",
       "      <th>gill-attachment</th>\n",
       "      <th>gill-spacing</th>\n",
       "      <th>gill-size</th>\n",
       "      <th>gill-color</th>\n",
       "      <th>...</th>\n",
       "      <th>stalk-surface-below-ring</th>\n",
       "      <th>stalk-color-above-ring</th>\n",
       "      <th>stalk-color-below</th>\n",
       "      <th>veil-type</th>\n",
       "      <th>veil-color</th>\n",
       "      <th>ring-number</th>\n",
       "      <th>ring-type</th>\n",
       "      <th>spore-print-color</th>\n",
       "      <th>population</th>\n",
       "      <th>habitat</th>\n",
       "    </tr>\n",
       "  </thead>\n",
       "  <tbody>\n",
       "    <tr>\n",
       "      <th>0</th>\n",
       "      <td>1</td>\n",
       "      <td>5</td>\n",
       "      <td>2</td>\n",
       "      <td>4</td>\n",
       "      <td>1</td>\n",
       "      <td>6</td>\n",
       "      <td>1</td>\n",
       "      <td>0</td>\n",
       "      <td>1</td>\n",
       "      <td>4</td>\n",
       "      <td>...</td>\n",
       "      <td>2</td>\n",
       "      <td>7</td>\n",
       "      <td>7</td>\n",
       "      <td>0</td>\n",
       "      <td>2</td>\n",
       "      <td>1</td>\n",
       "      <td>4</td>\n",
       "      <td>2</td>\n",
       "      <td>3</td>\n",
       "      <td>5</td>\n",
       "    </tr>\n",
       "    <tr>\n",
       "      <th>1</th>\n",
       "      <td>0</td>\n",
       "      <td>5</td>\n",
       "      <td>2</td>\n",
       "      <td>9</td>\n",
       "      <td>1</td>\n",
       "      <td>0</td>\n",
       "      <td>1</td>\n",
       "      <td>0</td>\n",
       "      <td>0</td>\n",
       "      <td>4</td>\n",
       "      <td>...</td>\n",
       "      <td>2</td>\n",
       "      <td>7</td>\n",
       "      <td>7</td>\n",
       "      <td>0</td>\n",
       "      <td>2</td>\n",
       "      <td>1</td>\n",
       "      <td>4</td>\n",
       "      <td>3</td>\n",
       "      <td>2</td>\n",
       "      <td>1</td>\n",
       "    </tr>\n",
       "    <tr>\n",
       "      <th>2</th>\n",
       "      <td>0</td>\n",
       "      <td>0</td>\n",
       "      <td>2</td>\n",
       "      <td>8</td>\n",
       "      <td>1</td>\n",
       "      <td>3</td>\n",
       "      <td>1</td>\n",
       "      <td>0</td>\n",
       "      <td>0</td>\n",
       "      <td>5</td>\n",
       "      <td>...</td>\n",
       "      <td>2</td>\n",
       "      <td>7</td>\n",
       "      <td>7</td>\n",
       "      <td>0</td>\n",
       "      <td>2</td>\n",
       "      <td>1</td>\n",
       "      <td>4</td>\n",
       "      <td>3</td>\n",
       "      <td>2</td>\n",
       "      <td>3</td>\n",
       "    </tr>\n",
       "    <tr>\n",
       "      <th>3</th>\n",
       "      <td>1</td>\n",
       "      <td>5</td>\n",
       "      <td>3</td>\n",
       "      <td>8</td>\n",
       "      <td>1</td>\n",
       "      <td>6</td>\n",
       "      <td>1</td>\n",
       "      <td>0</td>\n",
       "      <td>1</td>\n",
       "      <td>5</td>\n",
       "      <td>...</td>\n",
       "      <td>2</td>\n",
       "      <td>7</td>\n",
       "      <td>7</td>\n",
       "      <td>0</td>\n",
       "      <td>2</td>\n",
       "      <td>1</td>\n",
       "      <td>4</td>\n",
       "      <td>2</td>\n",
       "      <td>3</td>\n",
       "      <td>5</td>\n",
       "    </tr>\n",
       "    <tr>\n",
       "      <th>4</th>\n",
       "      <td>0</td>\n",
       "      <td>5</td>\n",
       "      <td>2</td>\n",
       "      <td>3</td>\n",
       "      <td>0</td>\n",
       "      <td>5</td>\n",
       "      <td>1</td>\n",
       "      <td>1</td>\n",
       "      <td>0</td>\n",
       "      <td>4</td>\n",
       "      <td>...</td>\n",
       "      <td>2</td>\n",
       "      <td>7</td>\n",
       "      <td>7</td>\n",
       "      <td>0</td>\n",
       "      <td>2</td>\n",
       "      <td>1</td>\n",
       "      <td>0</td>\n",
       "      <td>3</td>\n",
       "      <td>0</td>\n",
       "      <td>1</td>\n",
       "    </tr>\n",
       "    <tr>\n",
       "      <th>5</th>\n",
       "      <td>0</td>\n",
       "      <td>5</td>\n",
       "      <td>3</td>\n",
       "      <td>9</td>\n",
       "      <td>1</td>\n",
       "      <td>0</td>\n",
       "      <td>1</td>\n",
       "      <td>0</td>\n",
       "      <td>0</td>\n",
       "      <td>5</td>\n",
       "      <td>...</td>\n",
       "      <td>2</td>\n",
       "      <td>7</td>\n",
       "      <td>7</td>\n",
       "      <td>0</td>\n",
       "      <td>2</td>\n",
       "      <td>1</td>\n",
       "      <td>4</td>\n",
       "      <td>2</td>\n",
       "      <td>2</td>\n",
       "      <td>1</td>\n",
       "    </tr>\n",
       "    <tr>\n",
       "      <th>6</th>\n",
       "      <td>0</td>\n",
       "      <td>0</td>\n",
       "      <td>2</td>\n",
       "      <td>8</td>\n",
       "      <td>1</td>\n",
       "      <td>0</td>\n",
       "      <td>1</td>\n",
       "      <td>0</td>\n",
       "      <td>0</td>\n",
       "      <td>2</td>\n",
       "      <td>...</td>\n",
       "      <td>2</td>\n",
       "      <td>7</td>\n",
       "      <td>7</td>\n",
       "      <td>0</td>\n",
       "      <td>2</td>\n",
       "      <td>1</td>\n",
       "      <td>4</td>\n",
       "      <td>2</td>\n",
       "      <td>2</td>\n",
       "      <td>3</td>\n",
       "    </tr>\n",
       "    <tr>\n",
       "      <th>7</th>\n",
       "      <td>0</td>\n",
       "      <td>0</td>\n",
       "      <td>3</td>\n",
       "      <td>8</td>\n",
       "      <td>1</td>\n",
       "      <td>3</td>\n",
       "      <td>1</td>\n",
       "      <td>0</td>\n",
       "      <td>0</td>\n",
       "      <td>5</td>\n",
       "      <td>...</td>\n",
       "      <td>2</td>\n",
       "      <td>7</td>\n",
       "      <td>7</td>\n",
       "      <td>0</td>\n",
       "      <td>2</td>\n",
       "      <td>1</td>\n",
       "      <td>4</td>\n",
       "      <td>3</td>\n",
       "      <td>3</td>\n",
       "      <td>3</td>\n",
       "    </tr>\n",
       "    <tr>\n",
       "      <th>8</th>\n",
       "      <td>1</td>\n",
       "      <td>5</td>\n",
       "      <td>3</td>\n",
       "      <td>8</td>\n",
       "      <td>1</td>\n",
       "      <td>6</td>\n",
       "      <td>1</td>\n",
       "      <td>0</td>\n",
       "      <td>1</td>\n",
       "      <td>7</td>\n",
       "      <td>...</td>\n",
       "      <td>2</td>\n",
       "      <td>7</td>\n",
       "      <td>7</td>\n",
       "      <td>0</td>\n",
       "      <td>2</td>\n",
       "      <td>1</td>\n",
       "      <td>4</td>\n",
       "      <td>2</td>\n",
       "      <td>4</td>\n",
       "      <td>1</td>\n",
       "    </tr>\n",
       "    <tr>\n",
       "      <th>9</th>\n",
       "      <td>0</td>\n",
       "      <td>0</td>\n",
       "      <td>2</td>\n",
       "      <td>9</td>\n",
       "      <td>1</td>\n",
       "      <td>0</td>\n",
       "      <td>1</td>\n",
       "      <td>0</td>\n",
       "      <td>0</td>\n",
       "      <td>2</td>\n",
       "      <td>...</td>\n",
       "      <td>2</td>\n",
       "      <td>7</td>\n",
       "      <td>7</td>\n",
       "      <td>0</td>\n",
       "      <td>2</td>\n",
       "      <td>1</td>\n",
       "      <td>4</td>\n",
       "      <td>2</td>\n",
       "      <td>3</td>\n",
       "      <td>3</td>\n",
       "    </tr>\n",
       "  </tbody>\n",
       "</table>\n",
       "<p>10 rows × 23 columns</p>\n",
       "</div>"
      ],
      "text/plain": [
       "   class  cap-shape  cap-surface  cap-color  bruises  odor  gill-attachment  \\\n",
       "0      1          5            2          4        1     6                1   \n",
       "1      0          5            2          9        1     0                1   \n",
       "2      0          0            2          8        1     3                1   \n",
       "3      1          5            3          8        1     6                1   \n",
       "4      0          5            2          3        0     5                1   \n",
       "5      0          5            3          9        1     0                1   \n",
       "6      0          0            2          8        1     0                1   \n",
       "7      0          0            3          8        1     3                1   \n",
       "8      1          5            3          8        1     6                1   \n",
       "9      0          0            2          9        1     0                1   \n",
       "\n",
       "   gill-spacing  gill-size  gill-color  ...  stalk-surface-below-ring  \\\n",
       "0             0          1           4  ...                         2   \n",
       "1             0          0           4  ...                         2   \n",
       "2             0          0           5  ...                         2   \n",
       "3             0          1           5  ...                         2   \n",
       "4             1          0           4  ...                         2   \n",
       "5             0          0           5  ...                         2   \n",
       "6             0          0           2  ...                         2   \n",
       "7             0          0           5  ...                         2   \n",
       "8             0          1           7  ...                         2   \n",
       "9             0          0           2  ...                         2   \n",
       "\n",
       "   stalk-color-above-ring  stalk-color-below  veil-type  veil-color  \\\n",
       "0                       7                  7          0           2   \n",
       "1                       7                  7          0           2   \n",
       "2                       7                  7          0           2   \n",
       "3                       7                  7          0           2   \n",
       "4                       7                  7          0           2   \n",
       "5                       7                  7          0           2   \n",
       "6                       7                  7          0           2   \n",
       "7                       7                  7          0           2   \n",
       "8                       7                  7          0           2   \n",
       "9                       7                  7          0           2   \n",
       "\n",
       "   ring-number  ring-type  spore-print-color  population  habitat  \n",
       "0            1          4                  2           3        5  \n",
       "1            1          4                  3           2        1  \n",
       "2            1          4                  3           2        3  \n",
       "3            1          4                  2           3        5  \n",
       "4            1          0                  3           0        1  \n",
       "5            1          4                  2           2        1  \n",
       "6            1          4                  2           2        3  \n",
       "7            1          4                  3           3        3  \n",
       "8            1          4                  2           4        1  \n",
       "9            1          4                  2           3        3  \n",
       "\n",
       "[10 rows x 23 columns]"
      ]
     },
     "execution_count": 144,
     "metadata": {},
     "output_type": "execute_result"
    }
   ],
   "source": [
    "data.head(10)"
   ]
  },
  {
   "cell_type": "markdown",
   "metadata": {},
   "source": [
    "SKEWNESS:"
   ]
  },
  {
   "cell_type": "code",
   "execution_count": 147,
   "metadata": {},
   "outputs": [
    {
     "data": {
      "text/plain": [
       "class                       0.071946\n",
       "cap-shape                  -0.247052\n",
       "cap-surface                -0.590859\n",
       "cap-color                   0.706965\n",
       "bruises                     0.342750\n",
       "odor                       -0.080790\n",
       "gill-attachment            -5.977076\n",
       "gill-spacing                1.840088\n",
       "gill-size                   0.825797\n",
       "gill-color                  0.061410\n",
       "stalk-shape                -0.271345\n",
       "stalk-root                  0.947852\n",
       "stalk-surface-above-ring   -1.098739\n",
       "stalk-surface-below-ring   -0.757703\n",
       "stalk-color-above-ring     -1.835434\n",
       "stalk-color-below          -1.791593\n",
       "veil-type                   0.000000\n",
       "veil-color                 -6.946944\n",
       "ring-number                 2.701657\n",
       "ring-type                  -0.290018\n",
       "spore-print-color           0.548426\n",
       "population                 -1.413096\n",
       "habitat                     0.985548\n",
       "dtype: float64"
      ]
     },
     "execution_count": 147,
     "metadata": {},
     "output_type": "execute_result"
    }
   ],
   "source": [
    "data.skew()"
   ]
  },
  {
   "cell_type": "markdown",
   "metadata": {},
   "source": [
    "NORMAL DISTRIBUTION CURVE:\n"
   ]
  },
  {
   "cell_type": "code",
   "execution_count": 149,
   "metadata": {},
   "outputs": [
    {
     "data": {
      "text/plain": [
       "<matplotlib.axes._subplots.AxesSubplot at 0x287c1d51d00>"
      ]
     },
     "execution_count": 149,
     "metadata": {},
     "output_type": "execute_result"
    },
    {
     "data": {
      "image/png": "[encoded data removed]",
      "text/plain": [
       "<Figure size 432x288 with 1 Axes>"
      ]
     },
     "metadata": {
      "needs_background": "light"
     },
     "output_type": "display_data"
    }
   ],
   "source": [
    "import numpy as np\n",
    "import pandas as pd\n",
    "import warnings\n",
    "warnings.filterwarnings('ignore')\n",
    "\n",
    "sns.distplot(data[\"gill-attachment\"])"
   ]
  },
  {
   "cell_type": "code",
   "execution_count": null,
   "metadata": {},
   "outputs": [],
   "source": [
    "#we can observe the data is not normally ditributed"
   ]
  },
  {
   "cell_type": "code",
   "execution_count": 150,
   "metadata": {},
   "outputs": [
    {
     "data": {
      "text/plain": [
       "<matplotlib.axes._subplots.AxesSubplot at 0x287c1e24cd0>"
      ]
     },
     "execution_count": 150,
     "metadata": {},
     "output_type": "execute_result"
    },
    {
     "data": {
      "image/png": "[encoded data removed]",
      "text/plain": [
       "<Figure size 432x288 with 1 Axes>"
      ]
     },
     "metadata": {
      "needs_background": "light"
     },
     "output_type": "display_data"
    }
   ],
   "source": [
    "sns.distplot(data[\"gill-attachment\"])"
   ]
  },
  {
   "cell_type": "code",
   "execution_count": null,
   "metadata": {},
   "outputs": [],
   "source": [
    "#we can observe the data is not normally ditributed"
   ]
  },
  {
   "cell_type": "code",
   "execution_count": 153,
   "metadata": {},
   "outputs": [
    {
     "data": {
      "text/plain": [
       "<matplotlib.axes._subplots.AxesSubplot at 0x287c1e1a880>"
      ]
     },
     "execution_count": 153,
     "metadata": {},
     "output_type": "execute_result"
    },
    {
     "data": {
      "image/png": "[encoded data removed]",
      "text/plain": [
       "<Figure size 432x288 with 1 Axes>"
      ]
     },
     "metadata": {
      "needs_background": "light"
     },
     "output_type": "display_data"
    }
   ],
   "source": [
    "sns.distplot(data[\"stalk-root\"])"
   ]
  },
  {
   "cell_type": "code",
   "execution_count": null,
   "metadata": {},
   "outputs": [],
   "source": [
    "#we can observe the data is not normally ditributed"
   ]
  },
  {
   "cell_type": "code",
   "execution_count": 154,
   "metadata": {},
   "outputs": [
    {
     "data": {
      "text/plain": [
       "<matplotlib.axes._subplots.AxesSubplot at 0x287c2f88640>"
      ]
     },
     "execution_count": 154,
     "metadata": {},
     "output_type": "execute_result"
    },
    {
     "data": {
      "image/png": "[encoded data removed]",
      "text/plain": [
       "<Figure size 432x288 with 1 Axes>"
      ]
     },
     "metadata": {
      "needs_background": "light"
     },
     "output_type": "display_data"
    }
   ],
   "source": [
    "sns.distplot(data[\"stalk-color-above-ring\"])"
   ]
  },
  {
   "cell_type": "code",
   "execution_count": null,
   "metadata": {},
   "outputs": [],
   "source": [
    "#we can observe the data is not normally ditributed"
   ]
  },
  {
   "cell_type": "code",
   "execution_count": 160,
   "metadata": {},
   "outputs": [
    {
     "data": {
      "text/plain": [
       "<matplotlib.axes._subplots.AxesSubplot at 0x287c304b940>"
      ]
     },
     "execution_count": 160,
     "metadata": {},
     "output_type": "execute_result"
    },
    {
     "data": {
      "image/png": "[encoded data removed]",
      "text/plain": [
       "<Figure size 432x288 with 1 Axes>"
      ]
     },
     "metadata": {
      "needs_background": "light"
     },
     "output_type": "display_data"
    }
   ],
   "source": [
    " sns.distplot(data[\"stalk-color-above-ring\"])"
   ]
  },
  {
   "cell_type": "code",
   "execution_count": null,
   "metadata": {},
   "outputs": [],
   "source": [
    "#we can observe the data is not normally ditributed"
   ]
  },
  {
   "cell_type": "code",
   "execution_count": 161,
   "metadata": {},
   "outputs": [
    {
     "data": {
      "text/plain": [
       "<matplotlib.axes._subplots.AxesSubplot at 0x287c31298b0>"
      ]
     },
     "execution_count": 161,
     "metadata": {},
     "output_type": "execute_result"
    },
    {
     "data": {
      "image/png": "[encoded data removed]",
      "text/plain": [
       "<Figure size 432x288 with 1 Axes>"
      ]
     },
     "metadata": {
      "needs_background": "light"
     },
     "output_type": "display_data"
    }
   ],
   "source": [
    " sns.distplot(data[\"veil-type\"])"
   ]
  },
  {
   "cell_type": "code",
   "execution_count": null,
   "metadata": {},
   "outputs": [],
   "source": [
    "#we can observe the data is normally ditributed"
   ]
  },
  {
   "cell_type": "code",
   "execution_count": 162,
   "metadata": {},
   "outputs": [
    {
     "data": {
      "text/plain": [
       "<matplotlib.axes._subplots.AxesSubplot at 0x287c31b18b0>"
      ]
     },
     "execution_count": 162,
     "metadata": {},
     "output_type": "execute_result"
    },
    {
     "data": {
      "image/png": "[encoded data removed]",
      "text/plain": [
       "<Figure size 432x288 with 1 Axes>"
      ]
     },
     "metadata": {
      "needs_background": "light"
     },
     "output_type": "display_data"
    }
   ],
   "source": [
    "sns.distplot(data[\"veil-color\"]) "
   ]
  },
  {
   "cell_type": "code",
   "execution_count": null,
   "metadata": {},
   "outputs": [],
   "source": [
    "#we can observe the data is not normally ditributed"
   ]
  },
  {
   "cell_type": "code",
   "execution_count": 163,
   "metadata": {},
   "outputs": [
    {
     "data": {
      "text/plain": [
       "<matplotlib.axes._subplots.AxesSubplot at 0x287c32eb1f0>"
      ]
     },
     "execution_count": 163,
     "metadata": {},
     "output_type": "execute_result"
    },
    {
     "data": {
      "image/png": "[encoded data removed]",
      "text/plain": [
       "<Figure size 432x288 with 1 Axes>"
      ]
     },
     "metadata": {
      "needs_background": "light"
     },
     "output_type": "display_data"
    }
   ],
   "source": [
    "sns.distplot(data[\"ring-number\"]) "
   ]
  },
  {
   "cell_type": "code",
   "execution_count": null,
   "metadata": {},
   "outputs": [],
   "source": [
    "#the data is skewed"
   ]
  },
  {
   "cell_type": "code",
   "execution_count": 164,
   "metadata": {},
   "outputs": [
    {
     "data": {
      "text/plain": [
       "<matplotlib.axes._subplots.AxesSubplot at 0x287c162dc40>"
      ]
     },
     "execution_count": 164,
     "metadata": {},
     "output_type": "execute_result"
    },
    {
     "data": {
      "image/png": "[encoded data removed]",
      "text/plain": [
       "<Figure size 432x288 with 1 Axes>"
      ]
     },
     "metadata": {
      "needs_background": "light"
     },
     "output_type": "display_data"
    }
   ],
   "source": [
    "sns.distplot(data[\"population\"])"
   ]
  },
  {
   "cell_type": "code",
   "execution_count": null,
   "metadata": {},
   "outputs": [],
   "source": [
    "#the data doesnt have bell shape curve"
   ]
  },
  {
   "cell_type": "code",
   "execution_count": 165,
   "metadata": {},
   "outputs": [
    {
     "data": {
      "text/plain": [
       "<matplotlib.axes._subplots.AxesSubplot at 0x287c4970070>"
      ]
     },
     "execution_count": 165,
     "metadata": {},
     "output_type": "execute_result"
    },
    {
     "data": {
      "image/png": "[encoded data removed]",
      "text/plain": [
       "<Figure size 432x288 with 1 Axes>"
      ]
     },
     "metadata": {
      "needs_background": "light"
     },
     "output_type": "display_data"
    }
   ],
   "source": [
    "sns.distplot(data[\"habitat\"])"
   ]
  },
  {
   "cell_type": "code",
   "execution_count": 166,
   "metadata": {},
   "outputs": [],
   "source": [
    "#the data is not normally distributed#"
   ]
  },
  {
   "cell_type": "markdown",
   "metadata": {},
   "source": [
    "REMOVING OUTLIERS"
   ]
  },
  {
   "cell_type": "markdown",
   "metadata": {},
   "source": [
    "ZSCORE METHOD"
   ]
  },
  {
   "cell_type": "code",
   "execution_count": null,
   "metadata": {},
   "outputs": [],
   "source": [
    "from scipy.stats import zscore\n",
    "import numpy as np\n",
    "z=np.abs(zscore(data))\n",
    "threshold=3\n",
    "np.where(z>3)"
   ]
  },
  {
   "cell_type": "code",
   "execution_count": null,
   "metadata": {},
   "outputs": [],
   "source": [
    "data_new=data[(z<3).all(axis=1)]"
   ]
  },
  {
   "cell_type": "code",
   "execution_count": null,
   "metadata": {},
   "outputs": [],
   "source": [
    "data_new"
   ]
  },
  {
   "cell_type": "markdown",
   "metadata": {},
   "source": [
    "QUANTILE TECHNIQUE"
   ]
  },
  {
   "cell_type": "code",
   "execution_count": 170,
   "metadata": {},
   "outputs": [
    {
     "name": "stdout",
     "output_type": "stream",
     "text": [
      "class                       1.0\n",
      "cap-shape                   3.0\n",
      "cap-surface                 3.0\n",
      "cap-color                   5.0\n",
      "bruises                     1.0\n",
      "odor                        3.0\n",
      "gill-attachment             0.0\n",
      "gill-spacing                0.0\n",
      "gill-size                   1.0\n",
      "gill-color                  5.0\n",
      "stalk-shape                 1.0\n",
      "stalk-root                  1.0\n",
      "stalk-surface-above-ring    1.0\n",
      "stalk-surface-below-ring    1.0\n",
      "stalk-color-above-ring      1.0\n",
      "stalk-color-below           1.0\n",
      "veil-type                   0.0\n",
      "veil-color                  0.0\n",
      "ring-number                 0.0\n",
      "ring-type                   4.0\n",
      "spore-print-color           5.0\n",
      "population                  1.0\n",
      "habitat                     2.0\n",
      "dtype: float64\n"
     ]
    }
   ],
   "source": [
    "Q1=data.quantile(0.25)\n",
    "Q3=data.quantile(0.75)\n",
    "IQR=Q3-Q1\n",
    "print(IQR)"
   ]
  },
  {
   "cell_type": "code",
   "execution_count": 171,
   "metadata": {},
   "outputs": [],
   "source": [
    "data_new1=data[~((data<Q1-(1.5*IQR))|(data>(Q3+(1.5*IQR)))).any(axis=1)]"
   ]
  },
  {
   "cell_type": "code",
   "execution_count": 172,
   "metadata": {},
   "outputs": [
    {
     "data": {
      "text/html": [
       "<div>\n",
       "<style scoped>\n",
       "    .dataframe tbody tr th:only-of-type {\n",
       "        vertical-align: middle;\n",
       "    }\n",
       "\n",
       "    .dataframe tbody tr th {\n",
       "        vertical-align: top;\n",
       "    }\n",
       "\n",
       "    .dataframe thead th {\n",
       "        text-align: right;\n",
       "    }\n",
       "</style>\n",
       "<table border=\"1\" class=\"dataframe\">\n",
       "  <thead>\n",
       "    <tr style=\"text-align: right;\">\n",
       "      <th></th>\n",
       "      <th>class</th>\n",
       "      <th>cap-shape</th>\n",
       "      <th>cap-surface</th>\n",
       "      <th>cap-color</th>\n",
       "      <th>bruises</th>\n",
       "      <th>odor</th>\n",
       "      <th>gill-attachment</th>\n",
       "      <th>gill-spacing</th>\n",
       "      <th>gill-size</th>\n",
       "      <th>gill-color</th>\n",
       "      <th>...</th>\n",
       "      <th>stalk-surface-below-ring</th>\n",
       "      <th>stalk-color-above-ring</th>\n",
       "      <th>stalk-color-below</th>\n",
       "      <th>veil-type</th>\n",
       "      <th>veil-color</th>\n",
       "      <th>ring-number</th>\n",
       "      <th>ring-type</th>\n",
       "      <th>spore-print-color</th>\n",
       "      <th>population</th>\n",
       "      <th>habitat</th>\n",
       "    </tr>\n",
       "  </thead>\n",
       "  <tbody>\n",
       "    <tr>\n",
       "      <th>1</th>\n",
       "      <td>0</td>\n",
       "      <td>5</td>\n",
       "      <td>2</td>\n",
       "      <td>9</td>\n",
       "      <td>1</td>\n",
       "      <td>0</td>\n",
       "      <td>1</td>\n",
       "      <td>0</td>\n",
       "      <td>0</td>\n",
       "      <td>4</td>\n",
       "      <td>...</td>\n",
       "      <td>2</td>\n",
       "      <td>7</td>\n",
       "      <td>7</td>\n",
       "      <td>0</td>\n",
       "      <td>2</td>\n",
       "      <td>1</td>\n",
       "      <td>4</td>\n",
       "      <td>3</td>\n",
       "      <td>2</td>\n",
       "      <td>1</td>\n",
       "    </tr>\n",
       "    <tr>\n",
       "      <th>2</th>\n",
       "      <td>0</td>\n",
       "      <td>0</td>\n",
       "      <td>2</td>\n",
       "      <td>8</td>\n",
       "      <td>1</td>\n",
       "      <td>3</td>\n",
       "      <td>1</td>\n",
       "      <td>0</td>\n",
       "      <td>0</td>\n",
       "      <td>5</td>\n",
       "      <td>...</td>\n",
       "      <td>2</td>\n",
       "      <td>7</td>\n",
       "      <td>7</td>\n",
       "      <td>0</td>\n",
       "      <td>2</td>\n",
       "      <td>1</td>\n",
       "      <td>4</td>\n",
       "      <td>3</td>\n",
       "      <td>2</td>\n",
       "      <td>3</td>\n",
       "    </tr>\n",
       "    <tr>\n",
       "      <th>5</th>\n",
       "      <td>0</td>\n",
       "      <td>5</td>\n",
       "      <td>3</td>\n",
       "      <td>9</td>\n",
       "      <td>1</td>\n",
       "      <td>0</td>\n",
       "      <td>1</td>\n",
       "      <td>0</td>\n",
       "      <td>0</td>\n",
       "      <td>5</td>\n",
       "      <td>...</td>\n",
       "      <td>2</td>\n",
       "      <td>7</td>\n",
       "      <td>7</td>\n",
       "      <td>0</td>\n",
       "      <td>2</td>\n",
       "      <td>1</td>\n",
       "      <td>4</td>\n",
       "      <td>2</td>\n",
       "      <td>2</td>\n",
       "      <td>1</td>\n",
       "    </tr>\n",
       "    <tr>\n",
       "      <th>6</th>\n",
       "      <td>0</td>\n",
       "      <td>0</td>\n",
       "      <td>2</td>\n",
       "      <td>8</td>\n",
       "      <td>1</td>\n",
       "      <td>0</td>\n",
       "      <td>1</td>\n",
       "      <td>0</td>\n",
       "      <td>0</td>\n",
       "      <td>2</td>\n",
       "      <td>...</td>\n",
       "      <td>2</td>\n",
       "      <td>7</td>\n",
       "      <td>7</td>\n",
       "      <td>0</td>\n",
       "      <td>2</td>\n",
       "      <td>1</td>\n",
       "      <td>4</td>\n",
       "      <td>2</td>\n",
       "      <td>2</td>\n",
       "      <td>3</td>\n",
       "    </tr>\n",
       "    <tr>\n",
       "      <th>7</th>\n",
       "      <td>0</td>\n",
       "      <td>0</td>\n",
       "      <td>3</td>\n",
       "      <td>8</td>\n",
       "      <td>1</td>\n",
       "      <td>3</td>\n",
       "      <td>1</td>\n",
       "      <td>0</td>\n",
       "      <td>0</td>\n",
       "      <td>5</td>\n",
       "      <td>...</td>\n",
       "      <td>2</td>\n",
       "      <td>7</td>\n",
       "      <td>7</td>\n",
       "      <td>0</td>\n",
       "      <td>2</td>\n",
       "      <td>1</td>\n",
       "      <td>4</td>\n",
       "      <td>3</td>\n",
       "      <td>3</td>\n",
       "      <td>3</td>\n",
       "    </tr>\n",
       "    <tr>\n",
       "      <th>...</th>\n",
       "      <td>...</td>\n",
       "      <td>...</td>\n",
       "      <td>...</td>\n",
       "      <td>...</td>\n",
       "      <td>...</td>\n",
       "      <td>...</td>\n",
       "      <td>...</td>\n",
       "      <td>...</td>\n",
       "      <td>...</td>\n",
       "      <td>...</td>\n",
       "      <td>...</td>\n",
       "      <td>...</td>\n",
       "      <td>...</td>\n",
       "      <td>...</td>\n",
       "      <td>...</td>\n",
       "      <td>...</td>\n",
       "      <td>...</td>\n",
       "      <td>...</td>\n",
       "      <td>...</td>\n",
       "      <td>...</td>\n",
       "      <td>...</td>\n",
       "    </tr>\n",
       "    <tr>\n",
       "      <th>8113</th>\n",
       "      <td>1</td>\n",
       "      <td>3</td>\n",
       "      <td>3</td>\n",
       "      <td>2</td>\n",
       "      <td>0</td>\n",
       "      <td>8</td>\n",
       "      <td>1</td>\n",
       "      <td>0</td>\n",
       "      <td>1</td>\n",
       "      <td>0</td>\n",
       "      <td>...</td>\n",
       "      <td>1</td>\n",
       "      <td>6</td>\n",
       "      <td>6</td>\n",
       "      <td>0</td>\n",
       "      <td>2</td>\n",
       "      <td>1</td>\n",
       "      <td>0</td>\n",
       "      <td>7</td>\n",
       "      <td>4</td>\n",
       "      <td>0</td>\n",
       "    </tr>\n",
       "    <tr>\n",
       "      <th>8116</th>\n",
       "      <td>1</td>\n",
       "      <td>3</td>\n",
       "      <td>3</td>\n",
       "      <td>4</td>\n",
       "      <td>0</td>\n",
       "      <td>7</td>\n",
       "      <td>1</td>\n",
       "      <td>0</td>\n",
       "      <td>1</td>\n",
       "      <td>0</td>\n",
       "      <td>...</td>\n",
       "      <td>1</td>\n",
       "      <td>6</td>\n",
       "      <td>7</td>\n",
       "      <td>0</td>\n",
       "      <td>2</td>\n",
       "      <td>1</td>\n",
       "      <td>0</td>\n",
       "      <td>7</td>\n",
       "      <td>4</td>\n",
       "      <td>2</td>\n",
       "    </tr>\n",
       "    <tr>\n",
       "      <th>8117</th>\n",
       "      <td>1</td>\n",
       "      <td>3</td>\n",
       "      <td>2</td>\n",
       "      <td>2</td>\n",
       "      <td>0</td>\n",
       "      <td>8</td>\n",
       "      <td>1</td>\n",
       "      <td>0</td>\n",
       "      <td>1</td>\n",
       "      <td>0</td>\n",
       "      <td>...</td>\n",
       "      <td>2</td>\n",
       "      <td>6</td>\n",
       "      <td>7</td>\n",
       "      <td>0</td>\n",
       "      <td>2</td>\n",
       "      <td>1</td>\n",
       "      <td>0</td>\n",
       "      <td>7</td>\n",
       "      <td>4</td>\n",
       "      <td>0</td>\n",
       "    </tr>\n",
       "    <tr>\n",
       "      <th>8118</th>\n",
       "      <td>1</td>\n",
       "      <td>3</td>\n",
       "      <td>3</td>\n",
       "      <td>4</td>\n",
       "      <td>0</td>\n",
       "      <td>2</td>\n",
       "      <td>1</td>\n",
       "      <td>0</td>\n",
       "      <td>1</td>\n",
       "      <td>0</td>\n",
       "      <td>...</td>\n",
       "      <td>2</td>\n",
       "      <td>6</td>\n",
       "      <td>7</td>\n",
       "      <td>0</td>\n",
       "      <td>2</td>\n",
       "      <td>1</td>\n",
       "      <td>0</td>\n",
       "      <td>7</td>\n",
       "      <td>4</td>\n",
       "      <td>0</td>\n",
       "    </tr>\n",
       "    <tr>\n",
       "      <th>8122</th>\n",
       "      <td>1</td>\n",
       "      <td>3</td>\n",
       "      <td>3</td>\n",
       "      <td>4</td>\n",
       "      <td>0</td>\n",
       "      <td>8</td>\n",
       "      <td>1</td>\n",
       "      <td>0</td>\n",
       "      <td>1</td>\n",
       "      <td>0</td>\n",
       "      <td>...</td>\n",
       "      <td>1</td>\n",
       "      <td>7</td>\n",
       "      <td>7</td>\n",
       "      <td>0</td>\n",
       "      <td>2</td>\n",
       "      <td>1</td>\n",
       "      <td>0</td>\n",
       "      <td>7</td>\n",
       "      <td>4</td>\n",
       "      <td>2</td>\n",
       "    </tr>\n",
       "  </tbody>\n",
       "</table>\n",
       "<p>3600 rows × 23 columns</p>\n",
       "</div>"
      ],
      "text/plain": [
       "      class  cap-shape  cap-surface  cap-color  bruises  odor  \\\n",
       "1         0          5            2          9        1     0   \n",
       "2         0          0            2          8        1     3   \n",
       "5         0          5            3          9        1     0   \n",
       "6         0          0            2          8        1     0   \n",
       "7         0          0            3          8        1     3   \n",
       "...     ...        ...          ...        ...      ...   ...   \n",
       "8113      1          3            3          2        0     8   \n",
       "8116      1          3            3          4        0     7   \n",
       "8117      1          3            2          2        0     8   \n",
       "8118      1          3            3          4        0     2   \n",
       "8122      1          3            3          4        0     8   \n",
       "\n",
       "      gill-attachment  gill-spacing  gill-size  gill-color  ...  \\\n",
       "1                   1             0          0           4  ...   \n",
       "2                   1             0          0           5  ...   \n",
       "5                   1             0          0           5  ...   \n",
       "6                   1             0          0           2  ...   \n",
       "7                   1             0          0           5  ...   \n",
       "...               ...           ...        ...         ...  ...   \n",
       "8113                1             0          1           0  ...   \n",
       "8116                1             0          1           0  ...   \n",
       "8117                1             0          1           0  ...   \n",
       "8118                1             0          1           0  ...   \n",
       "8122                1             0          1           0  ...   \n",
       "\n",
       "      stalk-surface-below-ring  stalk-color-above-ring  stalk-color-below  \\\n",
       "1                            2                       7                  7   \n",
       "2                            2                       7                  7   \n",
       "5                            2                       7                  7   \n",
       "6                            2                       7                  7   \n",
       "7                            2                       7                  7   \n",
       "...                        ...                     ...                ...   \n",
       "8113                         1                       6                  6   \n",
       "8116                         1                       6                  7   \n",
       "8117                         2                       6                  7   \n",
       "8118                         2                       6                  7   \n",
       "8122                         1                       7                  7   \n",
       "\n",
       "      veil-type  veil-color  ring-number  ring-type  spore-print-color  \\\n",
       "1             0           2            1          4                  3   \n",
       "2             0           2            1          4                  3   \n",
       "5             0           2            1          4                  2   \n",
       "6             0           2            1          4                  2   \n",
       "7             0           2            1          4                  3   \n",
       "...         ...         ...          ...        ...                ...   \n",
       "8113          0           2            1          0                  7   \n",
       "8116          0           2            1          0                  7   \n",
       "8117          0           2            1          0                  7   \n",
       "8118          0           2            1          0                  7   \n",
       "8122          0           2            1          0                  7   \n",
       "\n",
       "      population  habitat  \n",
       "1              2        1  \n",
       "2              2        3  \n",
       "5              2        1  \n",
       "6              2        3  \n",
       "7              3        3  \n",
       "...          ...      ...  \n",
       "8113           4        0  \n",
       "8116           4        2  \n",
       "8117           4        0  \n",
       "8118           4        0  \n",
       "8122           4        2  \n",
       "\n",
       "[3600 rows x 23 columns]"
      ]
     },
     "execution_count": 172,
     "metadata": {},
     "output_type": "execute_result"
    }
   ],
   "source": [
    "data_new1"
   ]
  },
  {
   "cell_type": "code",
   "execution_count": 173,
   "metadata": {},
   "outputs": [
    {
     "data": {
      "text/plain": [
       "(8124, 23)"
      ]
     },
     "execution_count": 173,
     "metadata": {},
     "output_type": "execute_result"
    }
   ],
   "source": [
    "data.shape"
   ]
  },
  {
   "cell_type": "code",
   "execution_count": 178,
   "metadata": {},
   "outputs": [
    {
     "name": "stdout",
     "output_type": "stream",
     "text": [
      "19.15312653865091\n"
     ]
    }
   ],
   "source": [
    "percentage_loss=((8124-6568)/8124)*100\n",
    "print(percentage_loss)"
   ]
  },
  {
   "cell_type": "code",
   "execution_count": 179,
   "metadata": {},
   "outputs": [],
   "source": [
    "#since zscore method too amny data will be lost using quantile method"
   ]
  },
  {
   "cell_type": "code",
   "execution_count": 183,
   "metadata": {},
   "outputs": [],
   "source": [
    "from sklearn.model_selection import train_test_split\n",
    "x=data_new1.iloc[:,1:]\n",
    "y=data_new1.iloc[:,0]"
   ]
  },
  {
   "cell_type": "code",
   "execution_count": 186,
   "metadata": {},
   "outputs": [
    {
     "data": {
      "text/plain": [
       "array([[ 1.04299085, -0.16942352,  2.0112229 , ..., -0.59034202,\n",
       "        -2.57760893, -0.33102112],\n",
       "       [-2.04887926, -0.16942352,  1.60188309, ..., -0.59034202,\n",
       "        -2.57760893,  0.87026521],\n",
       "       [ 1.04299085,  0.83374206,  2.0112229 , ..., -0.98922177,\n",
       "        -2.57760893, -0.33102112],\n",
       "       ...,\n",
       "       [-0.19375719, -0.16942352, -0.85415572, ...,  1.00517696,\n",
       "         0.18411492, -0.93166429],\n",
       "       [-0.19375719,  0.83374206, -0.03547612, ...,  1.00517696,\n",
       "         0.18411492, -0.93166429],\n",
       "       [-0.19375719,  0.83374206, -0.03547612, ...,  1.00517696,\n",
       "         0.18411492,  0.26962204]])"
      ]
     },
     "execution_count": 186,
     "metadata": {},
     "output_type": "execute_result"
    }
   ],
   "source": [
    "from sklearn.preprocessing import StandardScaler\n",
    "sc=StandardScaler()\n",
    "x=sc.fit_transform(x)\n",
    "x"
   ]
  },
  {
   "cell_type": "markdown",
   "metadata": {},
   "source": [
    "since target has two variables Binary Classification Model is used"
   ]
  },
  {
   "cell_type": "code",
   "execution_count": 216,
   "metadata": {},
   "outputs": [
    {
     "name": "stdout",
     "output_type": "stream",
     "text": [
      "              precision    recall  f1-score   support\n",
      "\n",
      "           0       1.00      1.00      1.00       275\n",
      "           1       1.00      1.00      1.00       445\n",
      "\n",
      "    accuracy                           1.00       720\n",
      "   macro avg       1.00      1.00      1.00       720\n",
      "weighted avg       1.00      1.00      1.00       720\n",
      "\n"
     ]
    }
   ],
   "source": [
    "from sklearn.metrics import classification_report\n",
    "print(classification_report(y_test,pred_test))\n"
   ]
  },
  {
   "cell_type": "markdown",
   "metadata": {},
   "source": [
    "Cross Validation score for logistic regression:"
   ]
  },
  {
   "cell_type": "code",
   "execution_count": 222,
   "metadata": {},
   "outputs": [
    {
     "name": "stdout",
     "output_type": "stream",
     "text": [
      "At cv:- 2\n",
      "Cross validation score is:- 84.00000000000001\n",
      "accuracy_score is :- 84.00000000000001\n",
      "\n",
      "\n",
      "At cv:- 3\n",
      "Cross validation score is:- 84.0\n",
      "accuracy_score is :- 84.0\n",
      "\n",
      "\n",
      "At cv:- 4\n",
      "Cross validation score is:- 95.77777777777779\n",
      "accuracy_score is :- 95.77777777777779\n",
      "\n",
      "\n",
      "At cv:- 5\n",
      "Cross validation score is:- 95.94444444444446\n",
      "accuracy_score is :- 95.94444444444446\n",
      "\n",
      "\n",
      "At cv:- 6\n",
      "Cross validation score is:- 95.88888888888889\n",
      "accuracy_score is :- 95.88888888888889\n",
      "\n",
      "\n",
      "At cv:- 7\n",
      "Cross validation score is:- 95.80878265703168\n",
      "accuracy_score is :- 95.80878265703168\n",
      "\n",
      "\n",
      "At cv:- 8\n",
      "Cross validation score is:- 95.94444444444444\n",
      "accuracy_score is :- 95.94444444444444\n",
      "\n",
      "\n",
      "At cv:- 9\n",
      "Cross validation score is:- 98.16666666666669\n",
      "accuracy_score is :- 98.16666666666669\n",
      "\n",
      "\n"
     ]
    }
   ],
   "source": [
    "pred_lr = lr.predict(x_test)\n",
    "from sklearn.model_selection import cross_val_score\n",
    "lss = accuracy_score(y_test,pred_lr)\n",
    "for j in range (2,10):\n",
    "    lsscore =cross_val_score(lr,x,y,cv=j)\n",
    "    lsc = lsscore.mean()\n",
    "    print(\"At cv:-\",j)\n",
    "    print(\"Cross validation score is:-\",lsc*100)\n",
    "    print(\"accuracy_score is :-\",lsc*100)\n",
    "    print(\"\\n\")\n"
   ]
  },
  {
   "cell_type": "code",
   "execution_count": 225,
   "metadata": {},
   "outputs": [],
   "source": [
    "from sklearn.preprocessing import StandardScaler\n",
    "sc=StandardScaler()\n",
    "x=sc.fit_transform(x)\n",
    "from sklearn.model_selection import train_test_split\n",
    "from sklearn.linear_model import LogisticRegression\n",
    "lr=LogisticRegression()\n",
    "from sklearn.metrics import r2_score"
   ]
  },
  {
   "cell_type": "code",
   "execution_count": 226,
   "metadata": {},
   "outputs": [
    {
     "name": "stdout",
     "output_type": "stream",
     "text": [
      "At random state  0 The model performs very well\n",
      "At random_state:- 0\n",
      "Training r2_score is :- 100.0\n",
      "tESTING R2_SCORE IS :- 100.0\n",
      "At random state  1 The model performs very well\n",
      "At random_state:- 1\n",
      "Training r2_score is :- 100.0\n",
      "tESTING R2_SCORE IS :- 100.0\n",
      "At random state  2 The model performs very well\n",
      "At random_state:- 2\n",
      "Training r2_score is :- 100.0\n",
      "tESTING R2_SCORE IS :- 100.0\n",
      "At random state  3 The model performs very well\n",
      "At random_state:- 3\n",
      "Training r2_score is :- 100.0\n",
      "tESTING R2_SCORE IS :- 100.0\n",
      "At random state  4 The model performs very well\n",
      "At random_state:- 4\n",
      "Training r2_score is :- 100.0\n",
      "tESTING R2_SCORE IS :- 100.0\n",
      "At random state  5 The model performs very well\n",
      "At random_state:- 5\n",
      "Training r2_score is :- 100.0\n",
      "tESTING R2_SCORE IS :- 100.0\n",
      "At random state  6 The model performs very well\n",
      "At random_state:- 6\n",
      "Training r2_score is :- 100.0\n",
      "tESTING R2_SCORE IS :- 100.0\n",
      "At random state  7 The model performs very well\n",
      "At random_state:- 7\n",
      "Training r2_score is :- 100.0\n",
      "tESTING R2_SCORE IS :- 100.0\n",
      "At random state  8 The model performs very well\n",
      "At random_state:- 8\n",
      "Training r2_score is :- 100.0\n",
      "tESTING R2_SCORE IS :- 100.0\n",
      "At random state  9 The model performs very well\n",
      "At random_state:- 9\n",
      "Training r2_score is :- 100.0\n",
      "tESTING R2_SCORE IS :- 100.0\n",
      "At random state  10 The model performs very well\n",
      "At random_state:- 10\n",
      "Training r2_score is :- 100.0\n",
      "tESTING R2_SCORE IS :- 100.0\n",
      "At random state  11 The model performs very well\n",
      "At random_state:- 11\n",
      "Training r2_score is :- 100.0\n",
      "tESTING R2_SCORE IS :- 100.0\n",
      "At random state  12 The model performs very well\n",
      "At random_state:- 12\n",
      "Training r2_score is :- 100.0\n",
      "tESTING R2_SCORE IS :- 100.0\n",
      "At random state  13 The model performs very well\n",
      "At random_state:- 13\n",
      "Training r2_score is :- 100.0\n",
      "tESTING R2_SCORE IS :- 100.0\n",
      "At random state  14 The model performs very well\n",
      "At random_state:- 14\n",
      "Training r2_score is :- 100.0\n",
      "tESTING R2_SCORE IS :- 100.0\n",
      "At random state  15 The model performs very well\n",
      "At random_state:- 15\n",
      "Training r2_score is :- 100.0\n",
      "tESTING R2_SCORE IS :- 100.0\n",
      "At random state  16 The model performs very well\n",
      "At random_state:- 16\n",
      "Training r2_score is :- 100.0\n",
      "tESTING R2_SCORE IS :- 100.0\n",
      "At random state  17 The model performs very well\n",
      "At random_state:- 17\n",
      "Training r2_score is :- 100.0\n",
      "tESTING R2_SCORE IS :- 100.0\n",
      "At random state  18 The model performs very well\n",
      "At random_state:- 18\n",
      "Training r2_score is :- 100.0\n",
      "tESTING R2_SCORE IS :- 100.0\n",
      "At random state  19 The model performs very well\n",
      "At random_state:- 19\n",
      "Training r2_score is :- 100.0\n",
      "tESTING R2_SCORE IS :- 100.0\n",
      "At random state  20 The model performs very well\n",
      "At random_state:- 20\n",
      "Training r2_score is :- 100.0\n",
      "tESTING R2_SCORE IS :- 100.0\n",
      "At random state  21 The model performs very well\n",
      "At random_state:- 21\n",
      "Training r2_score is :- 100.0\n",
      "tESTING R2_SCORE IS :- 100.0\n",
      "At random state  22 The model performs very well\n",
      "At random_state:- 22\n",
      "Training r2_score is :- 100.0\n",
      "tESTING R2_SCORE IS :- 100.0\n",
      "At random state  23 The model performs very well\n",
      "At random_state:- 23\n",
      "Training r2_score is :- 100.0\n",
      "tESTING R2_SCORE IS :- 100.0\n",
      "At random state  24 The model performs very well\n",
      "At random_state:- 24\n",
      "Training r2_score is :- 100.0\n",
      "tESTING R2_SCORE IS :- 100.0\n",
      "At random state  25 The model performs very well\n",
      "At random_state:- 25\n",
      "Training r2_score is :- 100.0\n",
      "tESTING R2_SCORE IS :- 100.0\n",
      "At random state  26 The model performs very well\n",
      "At random_state:- 26\n",
      "Training r2_score is :- 100.0\n",
      "tESTING R2_SCORE IS :- 100.0\n",
      "At random state  27 The model performs very well\n",
      "At random_state:- 27\n",
      "Training r2_score is :- 100.0\n",
      "tESTING R2_SCORE IS :- 100.0\n",
      "At random state  28 The model performs very well\n",
      "At random_state:- 28\n",
      "Training r2_score is :- 100.0\n",
      "tESTING R2_SCORE IS :- 100.0\n",
      "At random state  29 The model performs very well\n",
      "At random_state:- 29\n",
      "Training r2_score is :- 100.0\n",
      "tESTING R2_SCORE IS :- 100.0\n",
      "At random state  30 The model performs very well\n",
      "At random_state:- 30\n",
      "Training r2_score is :- 100.0\n",
      "tESTING R2_SCORE IS :- 100.0\n",
      "At random state  31 The model performs very well\n",
      "At random_state:- 31\n",
      "Training r2_score is :- 100.0\n",
      "tESTING R2_SCORE IS :- 100.0\n",
      "At random state  32 The model performs very well\n",
      "At random_state:- 32\n",
      "Training r2_score is :- 100.0\n",
      "tESTING R2_SCORE IS :- 100.0\n",
      "At random state  33 The model performs very well\n",
      "At random_state:- 33\n",
      "Training r2_score is :- 100.0\n",
      "tESTING R2_SCORE IS :- 100.0\n",
      "At random state  34 The model performs very well\n",
      "At random_state:- 34\n",
      "Training r2_score is :- 100.0\n",
      "tESTING R2_SCORE IS :- 100.0\n",
      "At random state  35 The model performs very well\n",
      "At random_state:- 35\n",
      "Training r2_score is :- 100.0\n",
      "tESTING R2_SCORE IS :- 100.0\n",
      "At random state  36 The model performs very well\n",
      "At random_state:- 36\n",
      "Training r2_score is :- 100.0\n",
      "tESTING R2_SCORE IS :- 100.0\n",
      "At random state  37 The model performs very well\n",
      "At random_state:- 37\n",
      "Training r2_score is :- 100.0\n",
      "tESTING R2_SCORE IS :- 100.0\n",
      "At random state  38 The model performs very well\n",
      "At random_state:- 38\n",
      "Training r2_score is :- 100.0\n",
      "tESTING R2_SCORE IS :- 100.0\n",
      "At random state  39 The model performs very well\n",
      "At random_state:- 39\n",
      "Training r2_score is :- 100.0\n",
      "tESTING R2_SCORE IS :- 100.0\n",
      "At random state  40 The model performs very well\n",
      "At random_state:- 40\n",
      "Training r2_score is :- 100.0\n",
      "tESTING R2_SCORE IS :- 100.0\n",
      "At random state  41 The model performs very well\n",
      "At random_state:- 41\n",
      "Training r2_score is :- 100.0\n",
      "tESTING R2_SCORE IS :- 100.0\n",
      "At random state  42 The model performs very well\n",
      "At random_state:- 42\n",
      "Training r2_score is :- 100.0\n",
      "tESTING R2_SCORE IS :- 100.0\n",
      "At random state  43 The model performs very well\n",
      "At random_state:- 43\n",
      "Training r2_score is :- 100.0\n",
      "tESTING R2_SCORE IS :- 100.0\n",
      "At random state  44 The model performs very well\n",
      "At random_state:- 44\n",
      "Training r2_score is :- 100.0\n",
      "tESTING R2_SCORE IS :- 100.0\n",
      "At random state  45 The model performs very well\n",
      "At random_state:- 45\n",
      "Training r2_score is :- 100.0\n",
      "tESTING R2_SCORE IS :- 100.0\n",
      "At random state  46 The model performs very well\n",
      "At random_state:- 46\n",
      "Training r2_score is :- 100.0\n",
      "tESTING R2_SCORE IS :- 100.0\n",
      "At random state  47 The model performs very well\n",
      "At random_state:- 47\n",
      "Training r2_score is :- 100.0\n",
      "tESTING R2_SCORE IS :- 100.0\n",
      "At random state  48 The model performs very well\n",
      "At random_state:- 48\n",
      "Training r2_score is :- 100.0\n",
      "tESTING R2_SCORE IS :- 100.0\n",
      "At random state  49 The model performs very well\n",
      "At random_state:- 49\n",
      "Training r2_score is :- 100.0\n",
      "tESTING R2_SCORE IS :- 100.0\n",
      "At random state  50 The model performs very well\n",
      "At random_state:- 50\n",
      "Training r2_score is :- 100.0\n",
      "tESTING R2_SCORE IS :- 100.0\n",
      "At random state  51 The model performs very well\n",
      "At random_state:- 51\n",
      "Training r2_score is :- 100.0\n",
      "tESTING R2_SCORE IS :- 100.0\n",
      "At random state  52 The model performs very well\n",
      "At random_state:- 52\n",
      "Training r2_score is :- 100.0\n",
      "tESTING R2_SCORE IS :- 100.0\n",
      "At random state  53 The model performs very well\n",
      "At random_state:- 53\n",
      "Training r2_score is :- 100.0\n",
      "tESTING R2_SCORE IS :- 100.0\n",
      "At random state  54 The model performs very well\n",
      "At random_state:- 54\n",
      "Training r2_score is :- 100.0\n",
      "tESTING R2_SCORE IS :- 100.0\n",
      "At random state  55 The model performs very well\n",
      "At random_state:- 55\n",
      "Training r2_score is :- 100.0\n",
      "tESTING R2_SCORE IS :- 100.0\n",
      "At random state  56 The model performs very well\n",
      "At random_state:- 56\n",
      "Training r2_score is :- 100.0\n",
      "tESTING R2_SCORE IS :- 100.0\n",
      "At random state  57 The model performs very well\n",
      "At random_state:- 57\n",
      "Training r2_score is :- 100.0\n",
      "tESTING R2_SCORE IS :- 100.0\n",
      "At random state  58 The model performs very well\n",
      "At random_state:- 58\n",
      "Training r2_score is :- 100.0\n",
      "tESTING R2_SCORE IS :- 100.0\n",
      "At random state  59 The model performs very well\n",
      "At random_state:- 59\n",
      "Training r2_score is :- 100.0\n",
      "tESTING R2_SCORE IS :- 100.0\n",
      "At random state  60 The model performs very well\n",
      "At random_state:- 60\n",
      "Training r2_score is :- 100.0\n",
      "tESTING R2_SCORE IS :- 100.0\n",
      "At random state  61 The model performs very well\n",
      "At random_state:- 61\n",
      "Training r2_score is :- 100.0\n",
      "tESTING R2_SCORE IS :- 100.0\n",
      "At random state  62 The model performs very well\n",
      "At random_state:- 62\n",
      "Training r2_score is :- 100.0\n",
      "tESTING R2_SCORE IS :- 100.0\n",
      "At random state  63 The model performs very well\n",
      "At random_state:- 63\n",
      "Training r2_score is :- 100.0\n",
      "tESTING R2_SCORE IS :- 100.0\n",
      "At random state  64 The model performs very well\n",
      "At random_state:- 64\n",
      "Training r2_score is :- 100.0\n",
      "tESTING R2_SCORE IS :- 100.0\n",
      "At random state  65 The model performs very well\n",
      "At random_state:- 65\n",
      "Training r2_score is :- 100.0\n",
      "tESTING R2_SCORE IS :- 100.0\n",
      "At random state  66 The model performs very well\n",
      "At random_state:- 66\n",
      "Training r2_score is :- 100.0\n",
      "tESTING R2_SCORE IS :- 100.0\n",
      "At random state  67 The model performs very well\n",
      "At random_state:- 67\n",
      "Training r2_score is :- 100.0\n",
      "tESTING R2_SCORE IS :- 100.0\n",
      "At random state  68 The model performs very well\n",
      "At random_state:- 68\n",
      "Training r2_score is :- 100.0\n",
      "tESTING R2_SCORE IS :- 100.0\n",
      "At random state  69 The model performs very well\n",
      "At random_state:- 69\n",
      "Training r2_score is :- 100.0\n",
      "tESTING R2_SCORE IS :- 100.0\n",
      "At random state  70 The model performs very well\n",
      "At random_state:- 70\n",
      "Training r2_score is :- 100.0\n",
      "tESTING R2_SCORE IS :- 100.0\n",
      "At random state  71 The model performs very well\n",
      "At random_state:- 71\n",
      "Training r2_score is :- 100.0\n",
      "tESTING R2_SCORE IS :- 100.0\n",
      "At random state  72 The model performs very well\n",
      "At random_state:- 72\n",
      "Training r2_score is :- 100.0\n",
      "tESTING R2_SCORE IS :- 100.0\n",
      "At random state  73 The model performs very well\n",
      "At random_state:- 73\n",
      "Training r2_score is :- 100.0\n",
      "tESTING R2_SCORE IS :- 100.0\n",
      "At random state  74 The model performs very well\n",
      "At random_state:- 74\n",
      "Training r2_score is :- 100.0\n",
      "tESTING R2_SCORE IS :- 100.0\n",
      "At random state  75 The model performs very well\n",
      "At random_state:- 75\n",
      "Training r2_score is :- 100.0\n",
      "tESTING R2_SCORE IS :- 100.0\n",
      "At random state  76 The model performs very well\n",
      "At random_state:- 76\n",
      "Training r2_score is :- 100.0\n",
      "tESTING R2_SCORE IS :- 100.0\n",
      "At random state  77 The model performs very well\n",
      "At random_state:- 77\n",
      "Training r2_score is :- 100.0\n",
      "tESTING R2_SCORE IS :- 100.0\n",
      "At random state  78 The model performs very well\n",
      "At random_state:- 78\n",
      "Training r2_score is :- 100.0\n",
      "tESTING R2_SCORE IS :- 100.0\n",
      "At random state  79 The model performs very well\n",
      "At random_state:- 79\n",
      "Training r2_score is :- 100.0\n",
      "tESTING R2_SCORE IS :- 100.0\n",
      "At random state  80 The model performs very well\n",
      "At random_state:- 80\n",
      "Training r2_score is :- 100.0\n",
      "tESTING R2_SCORE IS :- 100.0\n",
      "At random state  81 The model performs very well\n",
      "At random_state:- 81\n",
      "Training r2_score is :- 100.0\n",
      "tESTING R2_SCORE IS :- 100.0\n",
      "At random state  82 The model performs very well\n",
      "At random_state:- 82\n",
      "Training r2_score is :- 100.0\n",
      "tESTING R2_SCORE IS :- 100.0\n",
      "At random state  83 The model performs very well\n",
      "At random_state:- 83\n",
      "Training r2_score is :- 100.0\n",
      "tESTING R2_SCORE IS :- 100.0\n",
      "At random state  84 The model performs very well\n",
      "At random_state:- 84\n",
      "Training r2_score is :- 100.0\n",
      "tESTING R2_SCORE IS :- 100.0\n",
      "At random state  85 The model performs very well\n",
      "At random_state:- 85\n",
      "Training r2_score is :- 100.0\n",
      "tESTING R2_SCORE IS :- 100.0\n",
      "At random state  86 The model performs very well\n",
      "At random_state:- 86\n",
      "Training r2_score is :- 100.0\n",
      "tESTING R2_SCORE IS :- 100.0\n",
      "At random state  87 The model performs very well\n",
      "At random_state:- 87\n",
      "Training r2_score is :- 100.0\n",
      "tESTING R2_SCORE IS :- 100.0\n",
      "At random state  88 The model performs very well\n",
      "At random_state:- 88\n",
      "Training r2_score is :- 100.0\n",
      "tESTING R2_SCORE IS :- 100.0\n",
      "At random state  89 The model performs very well\n",
      "At random_state:- 89\n",
      "Training r2_score is :- 100.0\n",
      "tESTING R2_SCORE IS :- 100.0\n",
      "At random state  90 The model performs very well\n",
      "At random_state:- 90\n",
      "Training r2_score is :- 100.0\n",
      "tESTING R2_SCORE IS :- 100.0\n",
      "At random state  91 The model performs very well\n",
      "At random_state:- 91\n",
      "Training r2_score is :- 100.0\n",
      "tESTING R2_SCORE IS :- 100.0\n",
      "At random state  92 The model performs very well\n",
      "At random_state:- 92\n",
      "Training r2_score is :- 100.0\n",
      "tESTING R2_SCORE IS :- 100.0\n",
      "At random state  93 The model performs very well\n",
      "At random_state:- 93\n",
      "Training r2_score is :- 100.0\n",
      "tESTING R2_SCORE IS :- 100.0\n",
      "At random state  94 The model performs very well\n",
      "At random_state:- 94\n",
      "Training r2_score is :- 100.0\n",
      "tESTING R2_SCORE IS :- 100.0\n",
      "At random state  95 The model performs very well\n",
      "At random_state:- 95\n",
      "Training r2_score is :- 100.0\n",
      "tESTING R2_SCORE IS :- 100.0\n",
      "At random state  96 The model performs very well\n",
      "At random_state:- 96\n",
      "Training r2_score is :- 100.0\n",
      "tESTING R2_SCORE IS :- 100.0\n",
      "At random state  97 The model performs very well\n",
      "At random_state:- 97\n",
      "Training r2_score is :- 100.0\n",
      "tESTING R2_SCORE IS :- 100.0\n",
      "At random state  98 The model performs very well\n",
      "At random_state:- 98\n",
      "Training r2_score is :- 100.0\n",
      "tESTING R2_SCORE IS :- 100.0\n",
      "At random state  99 The model performs very well\n",
      "At random_state:- 99\n",
      "Training r2_score is :- 100.0\n",
      "tESTING R2_SCORE IS :- 100.0\n"
     ]
    }
   ],
   "source": [
    "max_scr=0\n",
    "for i in range (0,100):\n",
    "    x_train,x_test,y_train,y_test=train_test_split(x,y,random_state=i,test_size=.20) \n",
    "    lr.fit(x_train,y_train)\n",
    "    pred_train=lr.predict(x_train)\n",
    "    pred_test=lr.predict(x_test)\n",
    "    if round(r2_score(y_train,pred_train)*100,2)==round(r2_score(y_test,pred_test)*100,2):\n",
    "        print(\"At random state \",i,\"The model performs very well\")\n",
    "        print(\"At random_state:-\",i)\n",
    "        print(\"Training r2_score is :-\",r2_score(y_train,pred_train)*100)\n",
    "        print(\"tESTING R2_SCORE IS :-\",r2_score(y_test,pred_test)*100)"
   ]
  },
  {
   "cell_type": "code",
   "execution_count": 227,
   "metadata": {},
   "outputs": [
    {
     "name": "stdout",
     "output_type": "stream",
     "text": [
      "cv:- 9\n",
      "cross validation score is :- 98.16\n",
      "r2_score is:- 100\n"
     ]
    }
   ],
   "source": [
    "print(\"cv:-\",9)\n",
    "print(\"cross validation score is :-\", 98.16)\n",
    "print(\"r2_score is:-\",100)"
   ]
  },
  {
   "cell_type": "markdown",
   "metadata": {},
   "source": [
    "AUC ROC Curve:"
   ]
  },
  {
   "cell_type": "code",
   "execution_count": 233,
   "metadata": {},
   "outputs": [],
   "source": [
    "from sklearn.metrics import roc_curve, auc\n",
    "fpr, tpr, thresholds = roc_curve(pred_test , y_test)\n",
    "roc_auc  = auc(fpr, tpr)\n"
   ]
  },
  {
   "cell_type": "code",
   "execution_count": 234,
   "metadata": {},
   "outputs": [
    {
     "data": {
      "image/png": "[encoded data removed]",
      "text/plain": [
       "<Figure size 432x288 with 1 Axes>"
      ]
     },
     "metadata": {
      "needs_background": "light"
     },
     "output_type": "display_data"
    }
   ],
   "source": [
    "plt.figure()\n",
    "plt.plot(fpr,tpr,color='red',lw=10,label='ROC curve (area-%0.f)' % roc_auc)\n",
    "plt.plot([0,1],[0,1], color='black',lw=10,linestyle='--')\n",
    "plt.xlim([0.0,1.0])\n",
    "plt.ylim([0.0,1.05])\n",
    "plt.xlabel('False Positive Rate')\n",
    "plt.ylabel('True Positive Rate')\n",
    "plt.title('Reciever Operating Characteristic')\n",
    "plt.legend(loc=\"lower right\")\n",
    "plt.show()"
   ]
  },
  {
   "cell_type": "markdown",
   "metadata": {},
   "source": [
    "import pickle\n",
    "filename='mushroom_projectnew.pkl'\n",
    "pickle.dump"
   ]
  }
 ],
 "metadata": {
  "kernelspec": {
   "display_name": "Python 3",
   "language": "python",
   "name": "python3"
  },
  "language_info": {
   "codemirror_mode": {
    "name": "ipython",
    "version": 3
   },
   "file_extension": ".py",
   "mimetype": "text/x-python",
   "name": "python",
   "nbconvert_exporter": "python",
   "pygments_lexer": "ipython3",
   "version": "3.8.3"
  }
 },
 "nbformat": 4,
 "nbformat_minor": 4
}
